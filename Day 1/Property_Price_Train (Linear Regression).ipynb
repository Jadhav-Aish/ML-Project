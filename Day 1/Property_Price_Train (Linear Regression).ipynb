{
 "cells": [
  {
   "cell_type": "markdown",
   "id": "883c1808",
   "metadata": {},
   "source": [
    "# Property_Price_Train"
   ]
  },
  {
   "cell_type": "markdown",
   "id": "ed46b820",
   "metadata": {},
   "source": [
    "## Import Libraries"
   ]
  },
  {
   "cell_type": "code",
   "execution_count": 1,
   "id": "c7ea97d7",
   "metadata": {},
   "outputs": [],
   "source": [
    "import numpy as np\n",
    "import pandas as pd"
   ]
  },
  {
   "cell_type": "markdown",
   "id": "522bc2d0",
   "metadata": {},
   "source": [
    "## 1) Problem Statment :- "
   ]
  },
  {
   "cell_type": "markdown",
   "id": "2e3ce9af",
   "metadata": {},
   "source": [
    "#### The problem statement is to predict the sale price of a house, given the features of the                                      house. The features are the columns in the dataset, and the target variable is the                                                            SalePrice column. The problem is a  'Linear Regression' problem, as the target variable                                                is continuous."
   ]
  },
  {
   "cell_type": "markdown",
   "id": "06b4a69b",
   "metadata": {},
   "source": [
    "## 2) Get the data"
   ]
  },
  {
   "cell_type": "code",
   "execution_count": 2,
   "id": "383bbce0",
   "metadata": {},
   "outputs": [],
   "source": [
    "ppt = pd.read_csv(r\"C:\\Users\\jadha\\Downloads\\Property_Price_Train.csv\")"
   ]
  },
  {
   "cell_type": "code",
   "execution_count": 3,
   "id": "17d929e9",
   "metadata": {},
   "outputs": [
    {
     "data": {
      "text/html": [
       "<div>\n",
       "<style scoped>\n",
       "    .dataframe tbody tr th:only-of-type {\n",
       "        vertical-align: middle;\n",
       "    }\n",
       "\n",
       "    .dataframe tbody tr th {\n",
       "        vertical-align: top;\n",
       "    }\n",
       "\n",
       "    .dataframe thead th {\n",
       "        text-align: right;\n",
       "    }\n",
       "</style>\n",
       "<table border=\"1\" class=\"dataframe\">\n",
       "  <thead>\n",
       "    <tr style=\"text-align: right;\">\n",
       "      <th></th>\n",
       "      <th>Id</th>\n",
       "      <th>Building_Class</th>\n",
       "      <th>Zoning_Class</th>\n",
       "      <th>Lot_Extent</th>\n",
       "      <th>Lot_Size</th>\n",
       "      <th>Road_Type</th>\n",
       "      <th>Lane_Type</th>\n",
       "      <th>Property_Shape</th>\n",
       "      <th>Land_Outline</th>\n",
       "      <th>Utility_Type</th>\n",
       "      <th>...</th>\n",
       "      <th>Pool_Area</th>\n",
       "      <th>Pool_Quality</th>\n",
       "      <th>Fence_Quality</th>\n",
       "      <th>Miscellaneous_Feature</th>\n",
       "      <th>Miscellaneous_Value</th>\n",
       "      <th>Month_Sold</th>\n",
       "      <th>Year_Sold</th>\n",
       "      <th>Sale_Type</th>\n",
       "      <th>Sale_Condition</th>\n",
       "      <th>Sale_Price</th>\n",
       "    </tr>\n",
       "  </thead>\n",
       "  <tbody>\n",
       "    <tr>\n",
       "      <th>0</th>\n",
       "      <td>1</td>\n",
       "      <td>60</td>\n",
       "      <td>RLD</td>\n",
       "      <td>65.0</td>\n",
       "      <td>8450</td>\n",
       "      <td>Paved</td>\n",
       "      <td>NaN</td>\n",
       "      <td>Reg</td>\n",
       "      <td>Lvl</td>\n",
       "      <td>AllPub</td>\n",
       "      <td>...</td>\n",
       "      <td>0</td>\n",
       "      <td>NaN</td>\n",
       "      <td>NaN</td>\n",
       "      <td>NaN</td>\n",
       "      <td>0</td>\n",
       "      <td>2</td>\n",
       "      <td>2008</td>\n",
       "      <td>WD</td>\n",
       "      <td>Normal</td>\n",
       "      <td>208500</td>\n",
       "    </tr>\n",
       "    <tr>\n",
       "      <th>1</th>\n",
       "      <td>2</td>\n",
       "      <td>20</td>\n",
       "      <td>RLD</td>\n",
       "      <td>80.0</td>\n",
       "      <td>9600</td>\n",
       "      <td>Paved</td>\n",
       "      <td>NaN</td>\n",
       "      <td>Reg</td>\n",
       "      <td>Lvl</td>\n",
       "      <td>AllPub</td>\n",
       "      <td>...</td>\n",
       "      <td>0</td>\n",
       "      <td>NaN</td>\n",
       "      <td>NaN</td>\n",
       "      <td>NaN</td>\n",
       "      <td>0</td>\n",
       "      <td>5</td>\n",
       "      <td>2007</td>\n",
       "      <td>WD</td>\n",
       "      <td>Normal</td>\n",
       "      <td>181500</td>\n",
       "    </tr>\n",
       "    <tr>\n",
       "      <th>2</th>\n",
       "      <td>3</td>\n",
       "      <td>60</td>\n",
       "      <td>RLD</td>\n",
       "      <td>68.0</td>\n",
       "      <td>11250</td>\n",
       "      <td>Paved</td>\n",
       "      <td>NaN</td>\n",
       "      <td>IR1</td>\n",
       "      <td>Lvl</td>\n",
       "      <td>AllPub</td>\n",
       "      <td>...</td>\n",
       "      <td>0</td>\n",
       "      <td>NaN</td>\n",
       "      <td>NaN</td>\n",
       "      <td>NaN</td>\n",
       "      <td>0</td>\n",
       "      <td>9</td>\n",
       "      <td>2008</td>\n",
       "      <td>WD</td>\n",
       "      <td>Normal</td>\n",
       "      <td>223500</td>\n",
       "    </tr>\n",
       "    <tr>\n",
       "      <th>3</th>\n",
       "      <td>4</td>\n",
       "      <td>70</td>\n",
       "      <td>RLD</td>\n",
       "      <td>60.0</td>\n",
       "      <td>9550</td>\n",
       "      <td>Paved</td>\n",
       "      <td>NaN</td>\n",
       "      <td>IR1</td>\n",
       "      <td>Lvl</td>\n",
       "      <td>AllPub</td>\n",
       "      <td>...</td>\n",
       "      <td>0</td>\n",
       "      <td>NaN</td>\n",
       "      <td>NaN</td>\n",
       "      <td>NaN</td>\n",
       "      <td>0</td>\n",
       "      <td>2</td>\n",
       "      <td>2006</td>\n",
       "      <td>WD</td>\n",
       "      <td>Abnorml</td>\n",
       "      <td>140000</td>\n",
       "    </tr>\n",
       "    <tr>\n",
       "      <th>4</th>\n",
       "      <td>5</td>\n",
       "      <td>60</td>\n",
       "      <td>RLD</td>\n",
       "      <td>84.0</td>\n",
       "      <td>14260</td>\n",
       "      <td>Paved</td>\n",
       "      <td>NaN</td>\n",
       "      <td>IR1</td>\n",
       "      <td>Lvl</td>\n",
       "      <td>AllPub</td>\n",
       "      <td>...</td>\n",
       "      <td>0</td>\n",
       "      <td>NaN</td>\n",
       "      <td>NaN</td>\n",
       "      <td>NaN</td>\n",
       "      <td>0</td>\n",
       "      <td>12</td>\n",
       "      <td>2008</td>\n",
       "      <td>WD</td>\n",
       "      <td>Normal</td>\n",
       "      <td>250000</td>\n",
       "    </tr>\n",
       "  </tbody>\n",
       "</table>\n",
       "<p>5 rows × 81 columns</p>\n",
       "</div>"
      ],
      "text/plain": [
       "   Id  Building_Class Zoning_Class  Lot_Extent  Lot_Size Road_Type Lane_Type  \\\n",
       "0   1              60          RLD        65.0      8450     Paved       NaN   \n",
       "1   2              20          RLD        80.0      9600     Paved       NaN   \n",
       "2   3              60          RLD        68.0     11250     Paved       NaN   \n",
       "3   4              70          RLD        60.0      9550     Paved       NaN   \n",
       "4   5              60          RLD        84.0     14260     Paved       NaN   \n",
       "\n",
       "  Property_Shape Land_Outline Utility_Type  ... Pool_Area Pool_Quality  \\\n",
       "0            Reg          Lvl       AllPub  ...         0          NaN   \n",
       "1            Reg          Lvl       AllPub  ...         0          NaN   \n",
       "2            IR1          Lvl       AllPub  ...         0          NaN   \n",
       "3            IR1          Lvl       AllPub  ...         0          NaN   \n",
       "4            IR1          Lvl       AllPub  ...         0          NaN   \n",
       "\n",
       "  Fence_Quality Miscellaneous_Feature Miscellaneous_Value Month_Sold  \\\n",
       "0           NaN                   NaN                   0          2   \n",
       "1           NaN                   NaN                   0          5   \n",
       "2           NaN                   NaN                   0          9   \n",
       "3           NaN                   NaN                   0          2   \n",
       "4           NaN                   NaN                   0         12   \n",
       "\n",
       "  Year_Sold  Sale_Type  Sale_Condition  Sale_Price  \n",
       "0      2008         WD          Normal      208500  \n",
       "1      2007         WD          Normal      181500  \n",
       "2      2008         WD          Normal      223500  \n",
       "3      2006         WD         Abnorml      140000  \n",
       "4      2008         WD          Normal      250000  \n",
       "\n",
       "[5 rows x 81 columns]"
      ]
     },
     "execution_count": 3,
     "metadata": {},
     "output_type": "execute_result"
    }
   ],
   "source": [
    "ppt.head()"
   ]
  },
  {
   "cell_type": "markdown",
   "id": "a0d8ded8",
   "metadata": {},
   "source": [
    "## 3) Data Preprocessing"
   ]
  },
  {
   "cell_type": "code",
   "execution_count": 4,
   "id": "517a9b03",
   "metadata": {},
   "outputs": [
    {
     "data": {
      "text/plain": [
       "(1459, 81)"
      ]
     },
     "execution_count": 4,
     "metadata": {},
     "output_type": "execute_result"
    }
   ],
   "source": [
    "ppt.shape"
   ]
  },
  {
   "cell_type": "code",
   "execution_count": 5,
   "id": "57dd72dd",
   "metadata": {},
   "outputs": [
    {
     "name": "stdout",
     "output_type": "stream",
     "text": [
      "<class 'pandas.core.frame.DataFrame'>\n",
      "RangeIndex: 1459 entries, 0 to 1458\n",
      "Data columns (total 81 columns):\n",
      " #   Column                     Non-Null Count  Dtype  \n",
      "---  ------                     --------------  -----  \n",
      " 0   Id                         1459 non-null   int64  \n",
      " 1   Building_Class             1459 non-null   int64  \n",
      " 2   Zoning_Class               1459 non-null   object \n",
      " 3   Lot_Extent                 1200 non-null   float64\n",
      " 4   Lot_Size                   1459 non-null   int64  \n",
      " 5   Road_Type                  1459 non-null   object \n",
      " 6   Lane_Type                  91 non-null     object \n",
      " 7   Property_Shape             1459 non-null   object \n",
      " 8   Land_Outline               1459 non-null   object \n",
      " 9   Utility_Type               1459 non-null   object \n",
      " 10  Lot_Configuration          1459 non-null   object \n",
      " 11  Property_Slope             1459 non-null   object \n",
      " 12  Neighborhood               1459 non-null   object \n",
      " 13  Condition1                 1459 non-null   object \n",
      " 14  Condition2                 1459 non-null   object \n",
      " 15  House_Type                 1459 non-null   object \n",
      " 16  House_Design               1459 non-null   object \n",
      " 17  Overall_Material           1459 non-null   int64  \n",
      " 18  House_Condition            1459 non-null   int64  \n",
      " 19  Construction_Year          1459 non-null   int64  \n",
      " 20  Remodel_Year               1459 non-null   int64  \n",
      " 21  Roof_Design                1459 non-null   object \n",
      " 22  Roof_Quality               1459 non-null   object \n",
      " 23  Exterior1st                1459 non-null   object \n",
      " 24  Exterior2nd                1459 non-null   object \n",
      " 25  Brick_Veneer_Type          588 non-null    object \n",
      " 26  Brick_Veneer_Area          1451 non-null   float64\n",
      " 27  Exterior_Material          1459 non-null   object \n",
      " 28  Exterior_Condition         1459 non-null   object \n",
      " 29  Foundation_Type            1459 non-null   object \n",
      " 30  Basement_Height            1422 non-null   object \n",
      " 31  Basement_Condition         1422 non-null   object \n",
      " 32  Exposure_Level             1421 non-null   object \n",
      " 33  BsmtFinType1               1422 non-null   object \n",
      " 34  BsmtFinSF1                 1459 non-null   int64  \n",
      " 35  BsmtFinType2               1421 non-null   object \n",
      " 36  BsmtFinSF2                 1459 non-null   int64  \n",
      " 37  BsmtUnfSF                  1459 non-null   int64  \n",
      " 38  Total_Basement_Area        1459 non-null   int64  \n",
      " 39  Heating_Type               1459 non-null   object \n",
      " 40  Heating_Quality            1459 non-null   object \n",
      " 41  Air_Conditioning           1459 non-null   object \n",
      " 42  Electrical_System          1458 non-null   object \n",
      " 43  First_Floor_Area           1459 non-null   int64  \n",
      " 44  Second_Floor_Area          1459 non-null   int64  \n",
      " 45  LowQualFinSF               1459 non-null   int64  \n",
      " 46  Grade_Living_Area          1459 non-null   int64  \n",
      " 47  Underground_Full_Bathroom  1459 non-null   int64  \n",
      " 48  Underground_Half_Bathroom  1459 non-null   int64  \n",
      " 49  Full_Bathroom_Above_Grade  1459 non-null   int64  \n",
      " 50  Half_Bathroom_Above_Grade  1459 non-null   int64  \n",
      " 51  Bedroom_Above_Grade        1459 non-null   int64  \n",
      " 52  Kitchen_Above_Grade        1459 non-null   int64  \n",
      " 53  Kitchen_Quality            1459 non-null   object \n",
      " 54  Rooms_Above_Grade          1459 non-null   int64  \n",
      " 55  Functional_Rate            1459 non-null   object \n",
      " 56  Fireplaces                 1459 non-null   int64  \n",
      " 57  Fireplace_Quality          770 non-null    object \n",
      " 58  Garage                     1378 non-null   object \n",
      " 59  Garage_Built_Year          1378 non-null   float64\n",
      " 60  Garage_Finish_Year         1378 non-null   object \n",
      " 61  Garage_Size                1459 non-null   int64  \n",
      " 62  Garage_Area                1459 non-null   float64\n",
      " 63  Garage_Quality             1378 non-null   object \n",
      " 64  Garage_Condition           1378 non-null   object \n",
      " 65  Pavedd_Drive               1459 non-null   object \n",
      " 66  W_Deck_Area                1459 non-null   float64\n",
      " 67  Open_Lobby_Area            1459 non-null   float64\n",
      " 68  Enclosed_Lobby_Area        1459 non-null   float64\n",
      " 69  Three_Season_Lobby_Area    1459 non-null   int64  \n",
      " 70  Screen_Lobby_Area          1459 non-null   int64  \n",
      " 71  Pool_Area                  1459 non-null   int64  \n",
      " 72  Pool_Quality               7 non-null      object \n",
      " 73  Fence_Quality              281 non-null    object \n",
      " 74  Miscellaneous_Feature      54 non-null     object \n",
      " 75  Miscellaneous_Value        1459 non-null   int64  \n",
      " 76  Month_Sold                 1459 non-null   int64  \n",
      " 77  Year_Sold                  1459 non-null   int64  \n",
      " 78  Sale_Type                  1459 non-null   object \n",
      " 79  Sale_Condition             1459 non-null   object \n",
      " 80  Sale_Price                 1459 non-null   int64  \n",
      "dtypes: float64(7), int64(31), object(43)\n",
      "memory usage: 923.4+ KB\n"
     ]
    }
   ],
   "source": [
    "ppt.info()"
   ]
  },
  {
   "cell_type": "code",
   "execution_count": 6,
   "id": "46c1495c",
   "metadata": {},
   "outputs": [
    {
     "data": {
      "text/plain": [
       "Id                  0\n",
       "Building_Class      0\n",
       "Zoning_Class        0\n",
       "Lot_Extent        259\n",
       "Lot_Size            0\n",
       "                 ... \n",
       "Month_Sold          0\n",
       "Year_Sold           0\n",
       "Sale_Type           0\n",
       "Sale_Condition      0\n",
       "Sale_Price          0\n",
       "Length: 81, dtype: int64"
      ]
     },
     "execution_count": 6,
     "metadata": {},
     "output_type": "execute_result"
    }
   ],
   "source": [
    "ppt.isnull().sum()"
   ]
  },
  {
   "cell_type": "markdown",
   "id": "9f25be88",
   "metadata": {},
   "source": [
    "#### There are some null values present in our data so we need to replace the null values.We will replace numerical data null values with mean and categorical data null values with mode"
   ]
  },
  {
   "cell_type": "markdown",
   "id": "e9b067eb",
   "metadata": {},
   "source": [
    "##### Check more than 40% null value present in colume. Drop the columns which are having more then 40% null values."
   ]
  },
  {
   "cell_type": "code",
   "execution_count": 7,
   "id": "0d3bbf17",
   "metadata": {},
   "outputs": [
    {
     "data": {
      "text/plain": [
       "19"
      ]
     },
     "execution_count": 7,
     "metadata": {},
     "output_type": "execute_result"
    }
   ],
   "source": [
    "len(ppt.isnull().sum()[ppt.isnull().sum()>0])"
   ]
  },
  {
   "cell_type": "code",
   "execution_count": 8,
   "id": "10a8f1fe",
   "metadata": {},
   "outputs": [
    {
     "data": {
      "text/plain": [
       "Lane_Type                1368\n",
       "Brick_Veneer_Type         871\n",
       "Fireplace_Quality         689\n",
       "Pool_Quality             1452\n",
       "Fence_Quality            1178\n",
       "Miscellaneous_Feature    1405\n",
       "dtype: int64"
      ]
     },
     "execution_count": 8,
     "metadata": {},
     "output_type": "execute_result"
    }
   ],
   "source": [
    "ppt.isnull().sum()[ppt.isnull().sum()*100/ppt.shape[0]>40]  #With the help of this code i got more than 40% null value present column"
   ]
  },
  {
   "cell_type": "code",
   "execution_count": 9,
   "id": "31c91153",
   "metadata": {},
   "outputs": [],
   "source": [
    "ppt = ppt.drop(['Lane_Type','Brick_Veneer_Type','Fireplace_Quality','Pool_Quality','Fence_Quality','Miscellaneous_Feature'],axis = 1)"
   ]
  },
  {
   "cell_type": "code",
   "execution_count": 10,
   "id": "c75decc4",
   "metadata": {},
   "outputs": [
    {
     "data": {
      "text/plain": [
       "(1459, 75)"
      ]
     },
     "execution_count": 10,
     "metadata": {},
     "output_type": "execute_result"
    }
   ],
   "source": [
    "ppt.shape"
   ]
  },
  {
   "cell_type": "code",
   "execution_count": 11,
   "id": "c92ce816",
   "metadata": {},
   "outputs": [
    {
     "data": {
      "text/plain": [
       "Id                  0\n",
       "Building_Class      0\n",
       "Zoning_Class        0\n",
       "Lot_Extent        259\n",
       "Lot_Size            0\n",
       "                 ... \n",
       "Month_Sold          0\n",
       "Year_Sold           0\n",
       "Sale_Type           0\n",
       "Sale_Condition      0\n",
       "Sale_Price          0\n",
       "Length: 75, dtype: int64"
      ]
     },
     "execution_count": 11,
     "metadata": {},
     "output_type": "execute_result"
    }
   ],
   "source": [
    "ppt.isnull().sum()"
   ]
  },
  {
   "cell_type": "markdown",
   "id": "a1828802",
   "metadata": {},
   "source": [
    "##### Fill up null values "
   ]
  },
  {
   "cell_type": "code",
   "execution_count": 12,
   "id": "3d749140",
   "metadata": {},
   "outputs": [
    {
     "data": {
      "text/plain": [
       "Lot_Extent\n",
       "60.0     143\n",
       "70.0      70\n",
       "80.0      69\n",
       "50.0      57\n",
       "75.0      52\n",
       "        ... \n",
       "137.0      1\n",
       "141.0      1\n",
       "38.0       1\n",
       "140.0      1\n",
       "46.0       1\n",
       "Name: count, Length: 110, dtype: int64"
      ]
     },
     "execution_count": 12,
     "metadata": {},
     "output_type": "execute_result"
    }
   ],
   "source": [
    "ppt.Lot_Extent.value_counts()"
   ]
  },
  {
   "cell_type": "code",
   "execution_count": 13,
   "id": "ce268d5b",
   "metadata": {},
   "outputs": [
    {
     "data": {
      "text/plain": [
       "Brick_Veneer_Area\n",
       "0.0      860\n",
       "180.0      8\n",
       "72.0       8\n",
       "108.0      8\n",
       "120.0      7\n",
       "        ... \n",
       "562.0      1\n",
       "89.0       1\n",
       "921.0      1\n",
       "762.0      1\n",
       "119.0      1\n",
       "Name: count, Length: 327, dtype: int64"
      ]
     },
     "execution_count": 13,
     "metadata": {},
     "output_type": "execute_result"
    }
   ],
   "source": [
    "ppt.Brick_Veneer_Area.value_counts()"
   ]
  },
  {
   "cell_type": "code",
   "execution_count": 14,
   "id": "de6d9102",
   "metadata": {},
   "outputs": [
    {
     "data": {
      "text/plain": [
       "Basement_Height\n",
       "TA    648\n",
       "Gd    618\n",
       "Ex    121\n",
       "Fa     35\n",
       "Name: count, dtype: int64"
      ]
     },
     "execution_count": 14,
     "metadata": {},
     "output_type": "execute_result"
    }
   ],
   "source": [
    "ppt.Basement_Height.value_counts()"
   ]
  },
  {
   "cell_type": "code",
   "execution_count": 15,
   "id": "c22eafd4",
   "metadata": {},
   "outputs": [
    {
     "data": {
      "text/plain": [
       "Basement_Condition\n",
       "TA    1310\n",
       "Gd      65\n",
       "Fa      45\n",
       "Po       2\n",
       "Name: count, dtype: int64"
      ]
     },
     "execution_count": 15,
     "metadata": {},
     "output_type": "execute_result"
    }
   ],
   "source": [
    "ppt.Basement_Condition.value_counts()"
   ]
  },
  {
   "cell_type": "code",
   "execution_count": 16,
   "id": "17685542",
   "metadata": {},
   "outputs": [
    {
     "data": {
      "text/plain": [
       "Exposure_Level\n",
       "No    952\n",
       "Av    221\n",
       "Gd    134\n",
       "Mn    114\n",
       "Name: count, dtype: int64"
      ]
     },
     "execution_count": 16,
     "metadata": {},
     "output_type": "execute_result"
    }
   ],
   "source": [
    "ppt.Exposure_Level.value_counts()"
   ]
  },
  {
   "cell_type": "code",
   "execution_count": 17,
   "id": "25d0592e",
   "metadata": {},
   "outputs": [
    {
     "data": {
      "text/plain": [
       "BsmtFinType1\n",
       "Unf    430\n",
       "GLQ    418\n",
       "ALQ    220\n",
       "BLQ    147\n",
       "Rec    133\n",
       "LwQ     74\n",
       "Name: count, dtype: int64"
      ]
     },
     "execution_count": 17,
     "metadata": {},
     "output_type": "execute_result"
    }
   ],
   "source": [
    "ppt.BsmtFinType1.value_counts()"
   ]
  },
  {
   "cell_type": "code",
   "execution_count": 18,
   "id": "f7c74675",
   "metadata": {},
   "outputs": [
    {
     "data": {
      "text/plain": [
       "BsmtFinType2\n",
       "Unf    1256\n",
       "Rec      54\n",
       "LwQ      45\n",
       "BLQ      33\n",
       "ALQ      19\n",
       "GLQ      14\n",
       "Name: count, dtype: int64"
      ]
     },
     "execution_count": 18,
     "metadata": {},
     "output_type": "execute_result"
    }
   ],
   "source": [
    "ppt.BsmtFinType2.value_counts()"
   ]
  },
  {
   "cell_type": "code",
   "execution_count": 19,
   "id": "b7ba896e",
   "metadata": {},
   "outputs": [
    {
     "data": {
      "text/plain": [
       "Electrical_System\n",
       "SBrkr    1333\n",
       "FuseA      94\n",
       "FuseF      27\n",
       "FuseP       3\n",
       "Mix         1\n",
       "Name: count, dtype: int64"
      ]
     },
     "execution_count": 19,
     "metadata": {},
     "output_type": "execute_result"
    }
   ],
   "source": [
    "ppt.Electrical_System.value_counts()"
   ]
  },
  {
   "cell_type": "code",
   "execution_count": 20,
   "id": "21a6f98a",
   "metadata": {},
   "outputs": [
    {
     "data": {
      "text/plain": [
       "Garage\n",
       "Attchd     869\n",
       "Detchd     387\n",
       "BuiltIn     88\n",
       "Basment     19\n",
       "CarPort      9\n",
       "2TFes        5\n",
       "2Types       1\n",
       "Name: count, dtype: int64"
      ]
     },
     "execution_count": 20,
     "metadata": {},
     "output_type": "execute_result"
    }
   ],
   "source": [
    "ppt.Garage.value_counts()"
   ]
  },
  {
   "cell_type": "code",
   "execution_count": 21,
   "id": "02aebf89",
   "metadata": {},
   "outputs": [
    {
     "data": {
      "text/plain": [
       "Garage_Built_Year\n",
       "2005.0    65\n",
       "2006.0    59\n",
       "2004.0    53\n",
       "2003.0    50\n",
       "2007.0    49\n",
       "          ..\n",
       "1927.0     1\n",
       "1900.0     1\n",
       "1906.0     1\n",
       "1908.0     1\n",
       "1933.0     1\n",
       "Name: count, Length: 97, dtype: int64"
      ]
     },
     "execution_count": 21,
     "metadata": {},
     "output_type": "execute_result"
    }
   ],
   "source": [
    "ppt.Garage_Built_Year.value_counts()"
   ]
  },
  {
   "cell_type": "code",
   "execution_count": 22,
   "id": "fb55839b",
   "metadata": {},
   "outputs": [
    {
     "data": {
      "text/plain": [
       "Garage_Finish_Year\n",
       "Unf    605\n",
       "RFn    422\n",
       "Fin    351\n",
       "Name: count, dtype: int64"
      ]
     },
     "execution_count": 22,
     "metadata": {},
     "output_type": "execute_result"
    }
   ],
   "source": [
    "ppt.Garage_Finish_Year.value_counts()"
   ]
  },
  {
   "cell_type": "code",
   "execution_count": 23,
   "id": "80dc4b8f",
   "metadata": {},
   "outputs": [
    {
     "data": {
      "text/plain": [
       "Garage_Quality\n",
       "TA    1310\n",
       "Fa      48\n",
       "Gd      14\n",
       "Ex       3\n",
       "Po       3\n",
       "Name: count, dtype: int64"
      ]
     },
     "execution_count": 23,
     "metadata": {},
     "output_type": "execute_result"
    }
   ],
   "source": [
    "ppt.Garage_Quality.value_counts()"
   ]
  },
  {
   "cell_type": "code",
   "execution_count": 24,
   "id": "2c8c8a03",
   "metadata": {},
   "outputs": [
    {
     "data": {
      "text/plain": [
       "Garage_Condition\n",
       "TA    1325\n",
       "Fa      35\n",
       "Gd       9\n",
       "Po       7\n",
       "Ex       2\n",
       "Name: count, dtype: int64"
      ]
     },
     "execution_count": 24,
     "metadata": {},
     "output_type": "execute_result"
    }
   ],
   "source": [
    "ppt.Garage_Condition.value_counts()"
   ]
  },
  {
   "cell_type": "code",
   "execution_count": 25,
   "id": "044d1078",
   "metadata": {},
   "outputs": [],
   "source": [
    "ppt.Lot_Extent =ppt.Lot_Extent.fillna(ppt.Lot_Extent.mean())\n",
    "ppt.Brick_Veneer_Area =ppt.Brick_Veneer_Area.fillna(ppt.Brick_Veneer_Area.mean())\n",
    "ppt.Basement_Height =ppt.Basement_Height.fillna(\"TA\")\n",
    "ppt.Basement_Condition = ppt.Basement_Condition.fillna(\"TA\")\n",
    "ppt.Exposure_Level = ppt.Exposure_Level.fillna(\"No\")\n",
    "ppt.BsmtFinType1 = ppt.BsmtFinType1.fillna(\"Unf\")\n",
    "ppt.BsmtFinType2 = ppt.BsmtFinType2.fillna(\"Unf\")\n",
    "ppt.Electrical_System = ppt.Electrical_System.fillna(\"SBrkr\")\n",
    "ppt.Garage = ppt.Garage.fillna(\"Attchd\")\n",
    "ppt.Garage_Built_Year = ppt.Garage_Built_Year.fillna(ppt.Garage_Built_Year.mean())\n",
    "ppt.Garage_Finish_Year = ppt.Garage_Finish_Year.fillna(\"Unf\")\n",
    "ppt.Garage_Quality = ppt.Garage_Quality.fillna(\"TA\")\n",
    "ppt.Garage_Condition =ppt.Garage_Condition.fillna(\"TA\")\n"
   ]
  },
  {
   "cell_type": "code",
   "execution_count": 26,
   "id": "47fff9f5",
   "metadata": {},
   "outputs": [
    {
     "data": {
      "text/plain": [
       "Id                0\n",
       "Building_Class    0\n",
       "Zoning_Class      0\n",
       "Lot_Extent        0\n",
       "Lot_Size          0\n",
       "                 ..\n",
       "Month_Sold        0\n",
       "Year_Sold         0\n",
       "Sale_Type         0\n",
       "Sale_Condition    0\n",
       "Sale_Price        0\n",
       "Length: 75, dtype: int64"
      ]
     },
     "execution_count": 26,
     "metadata": {},
     "output_type": "execute_result"
    }
   ],
   "source": [
    "ppt.isnull().sum()"
   ]
  },
  {
   "cell_type": "markdown",
   "id": "76d20edf",
   "metadata": {},
   "source": [
    "##### Drop unique column "
   ]
  },
  {
   "cell_type": "code",
   "execution_count": 27,
   "id": "896fa14e",
   "metadata": {},
   "outputs": [],
   "source": [
    "ppt= ppt.iloc[: , 1::]"
   ]
  },
  {
   "cell_type": "code",
   "execution_count": 28,
   "id": "00f8fbd2",
   "metadata": {},
   "outputs": [
    {
     "data": {
      "text/plain": [
       "(1459, 74)"
      ]
     },
     "execution_count": 28,
     "metadata": {},
     "output_type": "execute_result"
    }
   ],
   "source": [
    "ppt.shape"
   ]
  },
  {
   "cell_type": "code",
   "execution_count": 29,
   "id": "9196a290",
   "metadata": {},
   "outputs": [
    {
     "data": {
      "text/html": [
       "<div>\n",
       "<style scoped>\n",
       "    .dataframe tbody tr th:only-of-type {\n",
       "        vertical-align: middle;\n",
       "    }\n",
       "\n",
       "    .dataframe tbody tr th {\n",
       "        vertical-align: top;\n",
       "    }\n",
       "\n",
       "    .dataframe thead th {\n",
       "        text-align: right;\n",
       "    }\n",
       "</style>\n",
       "<table border=\"1\" class=\"dataframe\">\n",
       "  <thead>\n",
       "    <tr style=\"text-align: right;\">\n",
       "      <th></th>\n",
       "      <th>Building_Class</th>\n",
       "      <th>Zoning_Class</th>\n",
       "      <th>Lot_Extent</th>\n",
       "      <th>Lot_Size</th>\n",
       "      <th>Road_Type</th>\n",
       "      <th>Property_Shape</th>\n",
       "      <th>Land_Outline</th>\n",
       "      <th>Utility_Type</th>\n",
       "      <th>Lot_Configuration</th>\n",
       "      <th>Property_Slope</th>\n",
       "      <th>...</th>\n",
       "      <th>Enclosed_Lobby_Area</th>\n",
       "      <th>Three_Season_Lobby_Area</th>\n",
       "      <th>Screen_Lobby_Area</th>\n",
       "      <th>Pool_Area</th>\n",
       "      <th>Miscellaneous_Value</th>\n",
       "      <th>Month_Sold</th>\n",
       "      <th>Year_Sold</th>\n",
       "      <th>Sale_Type</th>\n",
       "      <th>Sale_Condition</th>\n",
       "      <th>Sale_Price</th>\n",
       "    </tr>\n",
       "  </thead>\n",
       "  <tbody>\n",
       "    <tr>\n",
       "      <th>0</th>\n",
       "      <td>60</td>\n",
       "      <td>RLD</td>\n",
       "      <td>65.0</td>\n",
       "      <td>8450</td>\n",
       "      <td>Paved</td>\n",
       "      <td>Reg</td>\n",
       "      <td>Lvl</td>\n",
       "      <td>AllPub</td>\n",
       "      <td>I</td>\n",
       "      <td>GS</td>\n",
       "      <td>...</td>\n",
       "      <td>20.337934</td>\n",
       "      <td>0</td>\n",
       "      <td>0</td>\n",
       "      <td>0</td>\n",
       "      <td>0</td>\n",
       "      <td>2</td>\n",
       "      <td>2008</td>\n",
       "      <td>WD</td>\n",
       "      <td>Normal</td>\n",
       "      <td>208500</td>\n",
       "    </tr>\n",
       "    <tr>\n",
       "      <th>1</th>\n",
       "      <td>20</td>\n",
       "      <td>RLD</td>\n",
       "      <td>80.0</td>\n",
       "      <td>9600</td>\n",
       "      <td>Paved</td>\n",
       "      <td>Reg</td>\n",
       "      <td>Lvl</td>\n",
       "      <td>AllPub</td>\n",
       "      <td>FR2P</td>\n",
       "      <td>GS</td>\n",
       "      <td>...</td>\n",
       "      <td>15.039392</td>\n",
       "      <td>0</td>\n",
       "      <td>0</td>\n",
       "      <td>0</td>\n",
       "      <td>0</td>\n",
       "      <td>5</td>\n",
       "      <td>2007</td>\n",
       "      <td>WD</td>\n",
       "      <td>Normal</td>\n",
       "      <td>181500</td>\n",
       "    </tr>\n",
       "    <tr>\n",
       "      <th>2</th>\n",
       "      <td>60</td>\n",
       "      <td>RLD</td>\n",
       "      <td>68.0</td>\n",
       "      <td>11250</td>\n",
       "      <td>Paved</td>\n",
       "      <td>IR1</td>\n",
       "      <td>Lvl</td>\n",
       "      <td>AllPub</td>\n",
       "      <td>I</td>\n",
       "      <td>GS</td>\n",
       "      <td>...</td>\n",
       "      <td>-46.232198</td>\n",
       "      <td>0</td>\n",
       "      <td>0</td>\n",
       "      <td>0</td>\n",
       "      <td>0</td>\n",
       "      <td>9</td>\n",
       "      <td>2008</td>\n",
       "      <td>WD</td>\n",
       "      <td>Normal</td>\n",
       "      <td>223500</td>\n",
       "    </tr>\n",
       "    <tr>\n",
       "      <th>3</th>\n",
       "      <td>70</td>\n",
       "      <td>RLD</td>\n",
       "      <td>60.0</td>\n",
       "      <td>9550</td>\n",
       "      <td>Paved</td>\n",
       "      <td>IR1</td>\n",
       "      <td>Lvl</td>\n",
       "      <td>AllPub</td>\n",
       "      <td>C</td>\n",
       "      <td>GS</td>\n",
       "      <td>...</td>\n",
       "      <td>60.921821</td>\n",
       "      <td>0</td>\n",
       "      <td>0</td>\n",
       "      <td>0</td>\n",
       "      <td>0</td>\n",
       "      <td>2</td>\n",
       "      <td>2006</td>\n",
       "      <td>WD</td>\n",
       "      <td>Abnorml</td>\n",
       "      <td>140000</td>\n",
       "    </tr>\n",
       "    <tr>\n",
       "      <th>4</th>\n",
       "      <td>60</td>\n",
       "      <td>RLD</td>\n",
       "      <td>84.0</td>\n",
       "      <td>14260</td>\n",
       "      <td>Paved</td>\n",
       "      <td>IR1</td>\n",
       "      <td>Lvl</td>\n",
       "      <td>AllPub</td>\n",
       "      <td>FR2P</td>\n",
       "      <td>GS</td>\n",
       "      <td>...</td>\n",
       "      <td>21.788818</td>\n",
       "      <td>0</td>\n",
       "      <td>0</td>\n",
       "      <td>0</td>\n",
       "      <td>0</td>\n",
       "      <td>12</td>\n",
       "      <td>2008</td>\n",
       "      <td>WD</td>\n",
       "      <td>Normal</td>\n",
       "      <td>250000</td>\n",
       "    </tr>\n",
       "  </tbody>\n",
       "</table>\n",
       "<p>5 rows × 74 columns</p>\n",
       "</div>"
      ],
      "text/plain": [
       "   Building_Class Zoning_Class  Lot_Extent  Lot_Size Road_Type Property_Shape  \\\n",
       "0              60          RLD        65.0      8450     Paved            Reg   \n",
       "1              20          RLD        80.0      9600     Paved            Reg   \n",
       "2              60          RLD        68.0     11250     Paved            IR1   \n",
       "3              70          RLD        60.0      9550     Paved            IR1   \n",
       "4              60          RLD        84.0     14260     Paved            IR1   \n",
       "\n",
       "  Land_Outline Utility_Type Lot_Configuration Property_Slope  ...  \\\n",
       "0          Lvl       AllPub                 I             GS  ...   \n",
       "1          Lvl       AllPub              FR2P             GS  ...   \n",
       "2          Lvl       AllPub                 I             GS  ...   \n",
       "3          Lvl       AllPub                 C             GS  ...   \n",
       "4          Lvl       AllPub              FR2P             GS  ...   \n",
       "\n",
       "  Enclosed_Lobby_Area Three_Season_Lobby_Area Screen_Lobby_Area Pool_Area  \\\n",
       "0           20.337934                       0                 0         0   \n",
       "1           15.039392                       0                 0         0   \n",
       "2          -46.232198                       0                 0         0   \n",
       "3           60.921821                       0                 0         0   \n",
       "4           21.788818                       0                 0         0   \n",
       "\n",
       "  Miscellaneous_Value  Month_Sold  Year_Sold  Sale_Type  Sale_Condition  \\\n",
       "0                   0           2       2008         WD          Normal   \n",
       "1                   0           5       2007         WD          Normal   \n",
       "2                   0           9       2008         WD          Normal   \n",
       "3                   0           2       2006         WD         Abnorml   \n",
       "4                   0          12       2008         WD          Normal   \n",
       "\n",
       "  Sale_Price  \n",
       "0     208500  \n",
       "1     181500  \n",
       "2     223500  \n",
       "3     140000  \n",
       "4     250000  \n",
       "\n",
       "[5 rows x 74 columns]"
      ]
     },
     "execution_count": 29,
     "metadata": {},
     "output_type": "execute_result"
    }
   ],
   "source": [
    "ppt.head()"
   ]
  },
  {
   "cell_type": "markdown",
   "id": "9087cb18",
   "metadata": {},
   "source": [
    "##### LabelEncoder :- It's use to convert object data type into numeric."
   ]
  },
  {
   "cell_type": "code",
   "execution_count": 30,
   "id": "4e8cbcc7",
   "metadata": {},
   "outputs": [],
   "source": [
    "from sklearn.preprocessing import LabelEncoder "
   ]
  },
  {
   "cell_type": "code",
   "execution_count": 31,
   "id": "28f8f841",
   "metadata": {},
   "outputs": [],
   "source": [
    "le = LabelEncoder()"
   ]
  },
  {
   "cell_type": "code",
   "execution_count": 32,
   "id": "22fe5e2b",
   "metadata": {},
   "outputs": [],
   "source": [
    "ppt[ppt.select_dtypes(include = [\"object\"]).columns] = ppt[ppt.select_dtypes(include = [\"object\"]).columns].apply(le.fit_transform)"
   ]
  },
  {
   "cell_type": "code",
   "execution_count": 33,
   "id": "c4c2b57c",
   "metadata": {},
   "outputs": [
    {
     "name": "stdout",
     "output_type": "stream",
     "text": [
      "<class 'pandas.core.frame.DataFrame'>\n",
      "RangeIndex: 1459 entries, 0 to 1458\n",
      "Data columns (total 74 columns):\n",
      " #   Column                     Non-Null Count  Dtype  \n",
      "---  ------                     --------------  -----  \n",
      " 0   Building_Class             1459 non-null   int64  \n",
      " 1   Zoning_Class               1459 non-null   int32  \n",
      " 2   Lot_Extent                 1459 non-null   float64\n",
      " 3   Lot_Size                   1459 non-null   int64  \n",
      " 4   Road_Type                  1459 non-null   int32  \n",
      " 5   Property_Shape             1459 non-null   int32  \n",
      " 6   Land_Outline               1459 non-null   int32  \n",
      " 7   Utility_Type               1459 non-null   int32  \n",
      " 8   Lot_Configuration          1459 non-null   int32  \n",
      " 9   Property_Slope             1459 non-null   int32  \n",
      " 10  Neighborhood               1459 non-null   int32  \n",
      " 11  Condition1                 1459 non-null   int32  \n",
      " 12  Condition2                 1459 non-null   int32  \n",
      " 13  House_Type                 1459 non-null   int32  \n",
      " 14  House_Design               1459 non-null   int32  \n",
      " 15  Overall_Material           1459 non-null   int64  \n",
      " 16  House_Condition            1459 non-null   int64  \n",
      " 17  Construction_Year          1459 non-null   int64  \n",
      " 18  Remodel_Year               1459 non-null   int64  \n",
      " 19  Roof_Design                1459 non-null   int32  \n",
      " 20  Roof_Quality               1459 non-null   int32  \n",
      " 21  Exterior1st                1459 non-null   int32  \n",
      " 22  Exterior2nd                1459 non-null   int32  \n",
      " 23  Brick_Veneer_Area          1459 non-null   float64\n",
      " 24  Exterior_Material          1459 non-null   int32  \n",
      " 25  Exterior_Condition         1459 non-null   int32  \n",
      " 26  Foundation_Type            1459 non-null   int32  \n",
      " 27  Basement_Height            1459 non-null   int32  \n",
      " 28  Basement_Condition         1459 non-null   int32  \n",
      " 29  Exposure_Level             1459 non-null   int32  \n",
      " 30  BsmtFinType1               1459 non-null   int32  \n",
      " 31  BsmtFinSF1                 1459 non-null   int64  \n",
      " 32  BsmtFinType2               1459 non-null   int32  \n",
      " 33  BsmtFinSF2                 1459 non-null   int64  \n",
      " 34  BsmtUnfSF                  1459 non-null   int64  \n",
      " 35  Total_Basement_Area        1459 non-null   int64  \n",
      " 36  Heating_Type               1459 non-null   int32  \n",
      " 37  Heating_Quality            1459 non-null   int32  \n",
      " 38  Air_Conditioning           1459 non-null   int32  \n",
      " 39  Electrical_System          1459 non-null   int32  \n",
      " 40  First_Floor_Area           1459 non-null   int64  \n",
      " 41  Second_Floor_Area          1459 non-null   int64  \n",
      " 42  LowQualFinSF               1459 non-null   int64  \n",
      " 43  Grade_Living_Area          1459 non-null   int64  \n",
      " 44  Underground_Full_Bathroom  1459 non-null   int64  \n",
      " 45  Underground_Half_Bathroom  1459 non-null   int64  \n",
      " 46  Full_Bathroom_Above_Grade  1459 non-null   int64  \n",
      " 47  Half_Bathroom_Above_Grade  1459 non-null   int64  \n",
      " 48  Bedroom_Above_Grade        1459 non-null   int64  \n",
      " 49  Kitchen_Above_Grade        1459 non-null   int64  \n",
      " 50  Kitchen_Quality            1459 non-null   int32  \n",
      " 51  Rooms_Above_Grade          1459 non-null   int64  \n",
      " 52  Functional_Rate            1459 non-null   int32  \n",
      " 53  Fireplaces                 1459 non-null   int64  \n",
      " 54  Garage                     1459 non-null   int32  \n",
      " 55  Garage_Built_Year          1459 non-null   float64\n",
      " 56  Garage_Finish_Year         1459 non-null   int32  \n",
      " 57  Garage_Size                1459 non-null   int64  \n",
      " 58  Garage_Area                1459 non-null   float64\n",
      " 59  Garage_Quality             1459 non-null   int32  \n",
      " 60  Garage_Condition           1459 non-null   int32  \n",
      " 61  Pavedd_Drive               1459 non-null   int32  \n",
      " 62  W_Deck_Area                1459 non-null   float64\n",
      " 63  Open_Lobby_Area            1459 non-null   float64\n",
      " 64  Enclosed_Lobby_Area        1459 non-null   float64\n",
      " 65  Three_Season_Lobby_Area    1459 non-null   int64  \n",
      " 66  Screen_Lobby_Area          1459 non-null   int64  \n",
      " 67  Pool_Area                  1459 non-null   int64  \n",
      " 68  Miscellaneous_Value        1459 non-null   int64  \n",
      " 69  Month_Sold                 1459 non-null   int64  \n",
      " 70  Year_Sold                  1459 non-null   int64  \n",
      " 71  Sale_Type                  1459 non-null   int32  \n",
      " 72  Sale_Condition             1459 non-null   int32  \n",
      " 73  Sale_Price                 1459 non-null   int64  \n",
      "dtypes: float64(7), int32(37), int64(30)\n",
      "memory usage: 632.7 KB\n"
     ]
    }
   ],
   "source": [
    "ppt.info()"
   ]
  },
  {
   "cell_type": "markdown",
   "id": "dc44bd80",
   "metadata": {},
   "source": [
    "## 4)  Sampling :- "
   ]
  },
  {
   "cell_type": "markdown",
   "id": "09bb16e7",
   "metadata": {},
   "source": [
    "#### Divide data into Train & Test."
   ]
  },
  {
   "cell_type": "code",
   "execution_count": 34,
   "id": "4681f434",
   "metadata": {},
   "outputs": [],
   "source": [
    "from sklearn.model_selection import train_test_split"
   ]
  },
  {
   "cell_type": "code",
   "execution_count": 68,
   "id": "53205d34",
   "metadata": {},
   "outputs": [],
   "source": [
    "ppt=df1     # Part of outlayer"
   ]
  },
  {
   "cell_type": "code",
   "execution_count": 69,
   "id": "8491110a",
   "metadata": {},
   "outputs": [],
   "source": [
    "ppt_train,ppt_test = train_test_split(ppt,test_size=.25)"
   ]
  },
  {
   "cell_type": "code",
   "execution_count": 70,
   "id": "567687e0",
   "metadata": {},
   "outputs": [
    {
     "data": {
      "text/plain": [
       "(349, 74)"
      ]
     },
     "execution_count": 70,
     "metadata": {},
     "output_type": "execute_result"
    }
   ],
   "source": [
    "ppt_test.shape"
   ]
  },
  {
   "cell_type": "code",
   "execution_count": 71,
   "id": "10230d04",
   "metadata": {},
   "outputs": [
    {
     "data": {
      "text/html": [
       "<div>\n",
       "<style scoped>\n",
       "    .dataframe tbody tr th:only-of-type {\n",
       "        vertical-align: middle;\n",
       "    }\n",
       "\n",
       "    .dataframe tbody tr th {\n",
       "        vertical-align: top;\n",
       "    }\n",
       "\n",
       "    .dataframe thead th {\n",
       "        text-align: right;\n",
       "    }\n",
       "</style>\n",
       "<table border=\"1\" class=\"dataframe\">\n",
       "  <thead>\n",
       "    <tr style=\"text-align: right;\">\n",
       "      <th></th>\n",
       "      <th>Building_Class</th>\n",
       "      <th>Zoning_Class</th>\n",
       "      <th>Lot_Extent</th>\n",
       "      <th>Lot_Size</th>\n",
       "      <th>Road_Type</th>\n",
       "      <th>Property_Shape</th>\n",
       "      <th>Land_Outline</th>\n",
       "      <th>Utility_Type</th>\n",
       "      <th>Lot_Configuration</th>\n",
       "      <th>Property_Slope</th>\n",
       "      <th>...</th>\n",
       "      <th>Enclosed_Lobby_Area</th>\n",
       "      <th>Three_Season_Lobby_Area</th>\n",
       "      <th>Screen_Lobby_Area</th>\n",
       "      <th>Pool_Area</th>\n",
       "      <th>Miscellaneous_Value</th>\n",
       "      <th>Month_Sold</th>\n",
       "      <th>Year_Sold</th>\n",
       "      <th>Sale_Type</th>\n",
       "      <th>Sale_Condition</th>\n",
       "      <th>Sale_Price</th>\n",
       "    </tr>\n",
       "  </thead>\n",
       "  <tbody>\n",
       "    <tr>\n",
       "      <th>1176</th>\n",
       "      <td>20</td>\n",
       "      <td>3</td>\n",
       "      <td>37.000000</td>\n",
       "      <td>6951</td>\n",
       "      <td>1</td>\n",
       "      <td>0</td>\n",
       "      <td>3</td>\n",
       "      <td>0</td>\n",
       "      <td>1</td>\n",
       "      <td>0</td>\n",
       "      <td>...</td>\n",
       "      <td>115.044566</td>\n",
       "      <td>0</td>\n",
       "      <td>0</td>\n",
       "      <td>0</td>\n",
       "      <td>0</td>\n",
       "      <td>10</td>\n",
       "      <td>2008</td>\n",
       "      <td>8</td>\n",
       "      <td>4</td>\n",
       "      <td>119500</td>\n",
       "    </tr>\n",
       "    <tr>\n",
       "      <th>208</th>\n",
       "      <td>60</td>\n",
       "      <td>3</td>\n",
       "      <td>70.045833</td>\n",
       "      <td>14364</td>\n",
       "      <td>1</td>\n",
       "      <td>0</td>\n",
       "      <td>2</td>\n",
       "      <td>0</td>\n",
       "      <td>4</td>\n",
       "      <td>1</td>\n",
       "      <td>...</td>\n",
       "      <td>-35.882419</td>\n",
       "      <td>0</td>\n",
       "      <td>154</td>\n",
       "      <td>0</td>\n",
       "      <td>0</td>\n",
       "      <td>4</td>\n",
       "      <td>2007</td>\n",
       "      <td>8</td>\n",
       "      <td>4</td>\n",
       "      <td>277000</td>\n",
       "    </tr>\n",
       "    <tr>\n",
       "      <th>139</th>\n",
       "      <td>60</td>\n",
       "      <td>3</td>\n",
       "      <td>65.000000</td>\n",
       "      <td>15426</td>\n",
       "      <td>1</td>\n",
       "      <td>0</td>\n",
       "      <td>3</td>\n",
       "      <td>0</td>\n",
       "      <td>4</td>\n",
       "      <td>0</td>\n",
       "      <td>...</td>\n",
       "      <td>88.642988</td>\n",
       "      <td>0</td>\n",
       "      <td>0</td>\n",
       "      <td>0</td>\n",
       "      <td>0</td>\n",
       "      <td>8</td>\n",
       "      <td>2009</td>\n",
       "      <td>8</td>\n",
       "      <td>4</td>\n",
       "      <td>231500</td>\n",
       "    </tr>\n",
       "    <tr>\n",
       "      <th>49</th>\n",
       "      <td>20</td>\n",
       "      <td>3</td>\n",
       "      <td>66.000000</td>\n",
       "      <td>7742</td>\n",
       "      <td>1</td>\n",
       "      <td>3</td>\n",
       "      <td>3</td>\n",
       "      <td>0</td>\n",
       "      <td>4</td>\n",
       "      <td>0</td>\n",
       "      <td>...</td>\n",
       "      <td>25.625194</td>\n",
       "      <td>0</td>\n",
       "      <td>0</td>\n",
       "      <td>0</td>\n",
       "      <td>0</td>\n",
       "      <td>1</td>\n",
       "      <td>2007</td>\n",
       "      <td>8</td>\n",
       "      <td>4</td>\n",
       "      <td>127000</td>\n",
       "    </tr>\n",
       "    <tr>\n",
       "      <th>717</th>\n",
       "      <td>20</td>\n",
       "      <td>3</td>\n",
       "      <td>80.000000</td>\n",
       "      <td>10000</td>\n",
       "      <td>1</td>\n",
       "      <td>3</td>\n",
       "      <td>3</td>\n",
       "      <td>0</td>\n",
       "      <td>4</td>\n",
       "      <td>0</td>\n",
       "      <td>...</td>\n",
       "      <td>-38.179183</td>\n",
       "      <td>0</td>\n",
       "      <td>0</td>\n",
       "      <td>0</td>\n",
       "      <td>0</td>\n",
       "      <td>11</td>\n",
       "      <td>2008</td>\n",
       "      <td>8</td>\n",
       "      <td>4</td>\n",
       "      <td>157000</td>\n",
       "    </tr>\n",
       "    <tr>\n",
       "      <th>...</th>\n",
       "      <td>...</td>\n",
       "      <td>...</td>\n",
       "      <td>...</td>\n",
       "      <td>...</td>\n",
       "      <td>...</td>\n",
       "      <td>...</td>\n",
       "      <td>...</td>\n",
       "      <td>...</td>\n",
       "      <td>...</td>\n",
       "      <td>...</td>\n",
       "      <td>...</td>\n",
       "      <td>...</td>\n",
       "      <td>...</td>\n",
       "      <td>...</td>\n",
       "      <td>...</td>\n",
       "      <td>...</td>\n",
       "      <td>...</td>\n",
       "      <td>...</td>\n",
       "      <td>...</td>\n",
       "      <td>...</td>\n",
       "      <td>...</td>\n",
       "    </tr>\n",
       "    <tr>\n",
       "      <th>1151</th>\n",
       "      <td>20</td>\n",
       "      <td>3</td>\n",
       "      <td>134.000000</td>\n",
       "      <td>17755</td>\n",
       "      <td>1</td>\n",
       "      <td>3</td>\n",
       "      <td>3</td>\n",
       "      <td>0</td>\n",
       "      <td>4</td>\n",
       "      <td>0</td>\n",
       "      <td>...</td>\n",
       "      <td>30.555079</td>\n",
       "      <td>0</td>\n",
       "      <td>100</td>\n",
       "      <td>0</td>\n",
       "      <td>0</td>\n",
       "      <td>11</td>\n",
       "      <td>2006</td>\n",
       "      <td>8</td>\n",
       "      <td>4</td>\n",
       "      <td>149900</td>\n",
       "    </tr>\n",
       "    <tr>\n",
       "      <th>969</th>\n",
       "      <td>190</td>\n",
       "      <td>3</td>\n",
       "      <td>75.000000</td>\n",
       "      <td>10382</td>\n",
       "      <td>1</td>\n",
       "      <td>3</td>\n",
       "      <td>3</td>\n",
       "      <td>0</td>\n",
       "      <td>4</td>\n",
       "      <td>0</td>\n",
       "      <td>...</td>\n",
       "      <td>97.436074</td>\n",
       "      <td>0</td>\n",
       "      <td>0</td>\n",
       "      <td>0</td>\n",
       "      <td>0</td>\n",
       "      <td>3</td>\n",
       "      <td>2006</td>\n",
       "      <td>3</td>\n",
       "      <td>4</td>\n",
       "      <td>140000</td>\n",
       "    </tr>\n",
       "    <tr>\n",
       "      <th>862</th>\n",
       "      <td>20</td>\n",
       "      <td>3</td>\n",
       "      <td>81.000000</td>\n",
       "      <td>9672</td>\n",
       "      <td>1</td>\n",
       "      <td>3</td>\n",
       "      <td>3</td>\n",
       "      <td>0</td>\n",
       "      <td>0</td>\n",
       "      <td>0</td>\n",
       "      <td>...</td>\n",
       "      <td>106.837707</td>\n",
       "      <td>0</td>\n",
       "      <td>0</td>\n",
       "      <td>0</td>\n",
       "      <td>0</td>\n",
       "      <td>5</td>\n",
       "      <td>2010</td>\n",
       "      <td>8</td>\n",
       "      <td>4</td>\n",
       "      <td>152000</td>\n",
       "    </tr>\n",
       "    <tr>\n",
       "      <th>93</th>\n",
       "      <td>190</td>\n",
       "      <td>0</td>\n",
       "      <td>60.000000</td>\n",
       "      <td>7200</td>\n",
       "      <td>1</td>\n",
       "      <td>3</td>\n",
       "      <td>3</td>\n",
       "      <td>0</td>\n",
       "      <td>0</td>\n",
       "      <td>0</td>\n",
       "      <td>...</td>\n",
       "      <td>-65.582399</td>\n",
       "      <td>0</td>\n",
       "      <td>99</td>\n",
       "      <td>0</td>\n",
       "      <td>0</td>\n",
       "      <td>11</td>\n",
       "      <td>2007</td>\n",
       "      <td>8</td>\n",
       "      <td>4</td>\n",
       "      <td>133900</td>\n",
       "    </tr>\n",
       "    <tr>\n",
       "      <th>1163</th>\n",
       "      <td>90</td>\n",
       "      <td>3</td>\n",
       "      <td>60.000000</td>\n",
       "      <td>12900</td>\n",
       "      <td>1</td>\n",
       "      <td>3</td>\n",
       "      <td>3</td>\n",
       "      <td>0</td>\n",
       "      <td>4</td>\n",
       "      <td>0</td>\n",
       "      <td>...</td>\n",
       "      <td>-38.004937</td>\n",
       "      <td>0</td>\n",
       "      <td>0</td>\n",
       "      <td>0</td>\n",
       "      <td>0</td>\n",
       "      <td>1</td>\n",
       "      <td>2008</td>\n",
       "      <td>8</td>\n",
       "      <td>2</td>\n",
       "      <td>108959</td>\n",
       "    </tr>\n",
       "  </tbody>\n",
       "</table>\n",
       "<p>1047 rows × 74 columns</p>\n",
       "</div>"
      ],
      "text/plain": [
       "      Building_Class  Zoning_Class  Lot_Extent  Lot_Size  Road_Type  \\\n",
       "1176              20             3   37.000000      6951          1   \n",
       "208               60             3   70.045833     14364          1   \n",
       "139               60             3   65.000000     15426          1   \n",
       "49                20             3   66.000000      7742          1   \n",
       "717               20             3   80.000000     10000          1   \n",
       "...              ...           ...         ...       ...        ...   \n",
       "1151              20             3  134.000000     17755          1   \n",
       "969              190             3   75.000000     10382          1   \n",
       "862               20             3   81.000000      9672          1   \n",
       "93               190             0   60.000000      7200          1   \n",
       "1163              90             3   60.000000     12900          1   \n",
       "\n",
       "      Property_Shape  Land_Outline  Utility_Type  Lot_Configuration  \\\n",
       "1176               0             3             0                  1   \n",
       "208                0             2             0                  4   \n",
       "139                0             3             0                  4   \n",
       "49                 3             3             0                  4   \n",
       "717                3             3             0                  4   \n",
       "...              ...           ...           ...                ...   \n",
       "1151               3             3             0                  4   \n",
       "969                3             3             0                  4   \n",
       "862                3             3             0                  0   \n",
       "93                 3             3             0                  0   \n",
       "1163               3             3             0                  4   \n",
       "\n",
       "      Property_Slope  ...  Enclosed_Lobby_Area  Three_Season_Lobby_Area  \\\n",
       "1176               0  ...           115.044566                        0   \n",
       "208                1  ...           -35.882419                        0   \n",
       "139                0  ...            88.642988                        0   \n",
       "49                 0  ...            25.625194                        0   \n",
       "717                0  ...           -38.179183                        0   \n",
       "...              ...  ...                  ...                      ...   \n",
       "1151               0  ...            30.555079                        0   \n",
       "969                0  ...            97.436074                        0   \n",
       "862                0  ...           106.837707                        0   \n",
       "93                 0  ...           -65.582399                        0   \n",
       "1163               0  ...           -38.004937                        0   \n",
       "\n",
       "      Screen_Lobby_Area  Pool_Area  Miscellaneous_Value  Month_Sold  \\\n",
       "1176                  0          0                    0          10   \n",
       "208                 154          0                    0           4   \n",
       "139                   0          0                    0           8   \n",
       "49                    0          0                    0           1   \n",
       "717                   0          0                    0          11   \n",
       "...                 ...        ...                  ...         ...   \n",
       "1151                100          0                    0          11   \n",
       "969                   0          0                    0           3   \n",
       "862                   0          0                    0           5   \n",
       "93                   99          0                    0          11   \n",
       "1163                  0          0                    0           1   \n",
       "\n",
       "      Year_Sold  Sale_Type  Sale_Condition  Sale_Price  \n",
       "1176       2008          8               4      119500  \n",
       "208        2007          8               4      277000  \n",
       "139        2009          8               4      231500  \n",
       "49         2007          8               4      127000  \n",
       "717        2008          8               4      157000  \n",
       "...         ...        ...             ...         ...  \n",
       "1151       2006          8               4      149900  \n",
       "969        2006          3               4      140000  \n",
       "862        2010          8               4      152000  \n",
       "93         2007          8               4      133900  \n",
       "1163       2008          8               2      108959  \n",
       "\n",
       "[1047 rows x 74 columns]"
      ]
     },
     "execution_count": 71,
     "metadata": {},
     "output_type": "execute_result"
    }
   ],
   "source": [
    "ppt_train"
   ]
  },
  {
   "cell_type": "markdown",
   "id": "00239726",
   "metadata": {},
   "source": [
    "##### Define the data into x & y "
   ]
  },
  {
   "cell_type": "code",
   "execution_count": 72,
   "id": "35100023",
   "metadata": {},
   "outputs": [],
   "source": [
    "ppt_train_x = ppt_train.iloc[:,0:-1]\n",
    "ppt_train_y = ppt_train.iloc[:,-1]"
   ]
  },
  {
   "cell_type": "code",
   "execution_count": 73,
   "id": "76b77110",
   "metadata": {},
   "outputs": [],
   "source": [
    "ppt_test_x = ppt_test.iloc[:,0:-1]\n",
    "ppt_test_y = ppt_test.iloc[:,-1]"
   ]
  },
  {
   "cell_type": "markdown",
   "id": "ef9d8fbc",
   "metadata": {},
   "source": [
    "## 5) Model Building:-"
   ]
  },
  {
   "cell_type": "markdown",
   "id": "ae8f5801",
   "metadata": {},
   "source": [
    "#### We are building a linear regression model in this project. "
   ]
  },
  {
   "cell_type": "code",
   "execution_count": 74,
   "id": "728a70cf",
   "metadata": {},
   "outputs": [],
   "source": [
    "from sklearn.linear_model import LinearRegression"
   ]
  },
  {
   "cell_type": "code",
   "execution_count": 75,
   "id": "33957951",
   "metadata": {},
   "outputs": [],
   "source": [
    "lr = LinearRegression()"
   ]
  },
  {
   "cell_type": "code",
   "execution_count": 76,
   "id": "0c2e1658",
   "metadata": {},
   "outputs": [
    {
     "data": {
      "text/html": [
       "<style>#sk-container-id-2 {color: black;}#sk-container-id-2 pre{padding: 0;}#sk-container-id-2 div.sk-toggleable {background-color: white;}#sk-container-id-2 label.sk-toggleable__label {cursor: pointer;display: block;width: 100%;margin-bottom: 0;padding: 0.3em;box-sizing: border-box;text-align: center;}#sk-container-id-2 label.sk-toggleable__label-arrow:before {content: \"▸\";float: left;margin-right: 0.25em;color: #696969;}#sk-container-id-2 label.sk-toggleable__label-arrow:hover:before {color: black;}#sk-container-id-2 div.sk-estimator:hover label.sk-toggleable__label-arrow:before {color: black;}#sk-container-id-2 div.sk-toggleable__content {max-height: 0;max-width: 0;overflow: hidden;text-align: left;background-color: #f0f8ff;}#sk-container-id-2 div.sk-toggleable__content pre {margin: 0.2em;color: black;border-radius: 0.25em;background-color: #f0f8ff;}#sk-container-id-2 input.sk-toggleable__control:checked~div.sk-toggleable__content {max-height: 200px;max-width: 100%;overflow: auto;}#sk-container-id-2 input.sk-toggleable__control:checked~label.sk-toggleable__label-arrow:before {content: \"▾\";}#sk-container-id-2 div.sk-estimator input.sk-toggleable__control:checked~label.sk-toggleable__label {background-color: #d4ebff;}#sk-container-id-2 div.sk-label input.sk-toggleable__control:checked~label.sk-toggleable__label {background-color: #d4ebff;}#sk-container-id-2 input.sk-hidden--visually {border: 0;clip: rect(1px 1px 1px 1px);clip: rect(1px, 1px, 1px, 1px);height: 1px;margin: -1px;overflow: hidden;padding: 0;position: absolute;width: 1px;}#sk-container-id-2 div.sk-estimator {font-family: monospace;background-color: #f0f8ff;border: 1px dotted black;border-radius: 0.25em;box-sizing: border-box;margin-bottom: 0.5em;}#sk-container-id-2 div.sk-estimator:hover {background-color: #d4ebff;}#sk-container-id-2 div.sk-parallel-item::after {content: \"\";width: 100%;border-bottom: 1px solid gray;flex-grow: 1;}#sk-container-id-2 div.sk-label:hover label.sk-toggleable__label {background-color: #d4ebff;}#sk-container-id-2 div.sk-serial::before {content: \"\";position: absolute;border-left: 1px solid gray;box-sizing: border-box;top: 0;bottom: 0;left: 50%;z-index: 0;}#sk-container-id-2 div.sk-serial {display: flex;flex-direction: column;align-items: center;background-color: white;padding-right: 0.2em;padding-left: 0.2em;position: relative;}#sk-container-id-2 div.sk-item {position: relative;z-index: 1;}#sk-container-id-2 div.sk-parallel {display: flex;align-items: stretch;justify-content: center;background-color: white;position: relative;}#sk-container-id-2 div.sk-item::before, #sk-container-id-2 div.sk-parallel-item::before {content: \"\";position: absolute;border-left: 1px solid gray;box-sizing: border-box;top: 0;bottom: 0;left: 50%;z-index: -1;}#sk-container-id-2 div.sk-parallel-item {display: flex;flex-direction: column;z-index: 1;position: relative;background-color: white;}#sk-container-id-2 div.sk-parallel-item:first-child::after {align-self: flex-end;width: 50%;}#sk-container-id-2 div.sk-parallel-item:last-child::after {align-self: flex-start;width: 50%;}#sk-container-id-2 div.sk-parallel-item:only-child::after {width: 0;}#sk-container-id-2 div.sk-dashed-wrapped {border: 1px dashed gray;margin: 0 0.4em 0.5em 0.4em;box-sizing: border-box;padding-bottom: 0.4em;background-color: white;}#sk-container-id-2 div.sk-label label {font-family: monospace;font-weight: bold;display: inline-block;line-height: 1.2em;}#sk-container-id-2 div.sk-label-container {text-align: center;}#sk-container-id-2 div.sk-container {/* jupyter's `normalize.less` sets `[hidden] { display: none; }` but bootstrap.min.css set `[hidden] { display: none !important; }` so we also need the `!important` here to be able to override the default hidden behavior on the sphinx rendered scikit-learn.org. See: https://github.com/scikit-learn/scikit-learn/issues/21755 */display: inline-block !important;position: relative;}#sk-container-id-2 div.sk-text-repr-fallback {display: none;}</style><div id=\"sk-container-id-2\" class=\"sk-top-container\"><div class=\"sk-text-repr-fallback\"><pre>LinearRegression()</pre><b>In a Jupyter environment, please rerun this cell to show the HTML representation or trust the notebook. <br />On GitHub, the HTML representation is unable to render, please try loading this page with nbviewer.org.</b></div><div class=\"sk-container\" hidden><div class=\"sk-item\"><div class=\"sk-estimator sk-toggleable\"><input class=\"sk-toggleable__control sk-hidden--visually\" id=\"sk-estimator-id-2\" type=\"checkbox\" checked><label for=\"sk-estimator-id-2\" class=\"sk-toggleable__label sk-toggleable__label-arrow\">LinearRegression</label><div class=\"sk-toggleable__content\"><pre>LinearRegression()</pre></div></div></div></div></div>"
      ],
      "text/plain": [
       "LinearRegression()"
      ]
     },
     "execution_count": 76,
     "metadata": {},
     "output_type": "execute_result"
    }
   ],
   "source": [
    "lr.fit(ppt_train_x,ppt_train_y)"
   ]
  },
  {
   "cell_type": "markdown",
   "id": "df28248f",
   "metadata": {},
   "source": [
    "#### Prediction"
   ]
  },
  {
   "cell_type": "code",
   "execution_count": 77,
   "id": "0f4d0e3e",
   "metadata": {},
   "outputs": [],
   "source": [
    "pred_train = lr.predict(ppt_train_x)\n",
    "pred_test = lr.predict(ppt_test_x)"
   ]
  },
  {
   "cell_type": "code",
   "execution_count": 78,
   "id": "91ed19b9",
   "metadata": {},
   "outputs": [
    {
     "data": {
      "text/plain": [
       "(1047,)"
      ]
     },
     "execution_count": 78,
     "metadata": {},
     "output_type": "execute_result"
    }
   ],
   "source": [
    "pred_train.shape"
   ]
  },
  {
   "cell_type": "code",
   "execution_count": 79,
   "id": "279c9be5",
   "metadata": {},
   "outputs": [
    {
     "data": {
      "text/plain": [
       "(349,)"
      ]
     },
     "execution_count": 79,
     "metadata": {},
     "output_type": "execute_result"
    }
   ],
   "source": [
    "pred_test.shape"
   ]
  },
  {
   "cell_type": "code",
   "execution_count": 80,
   "id": "098ceba7",
   "metadata": {},
   "outputs": [
    {
     "data": {
      "text/plain": [
       "829    -19048.129011\n",
       "965    -11776.588846\n",
       "90       5251.589016\n",
       "1058    16861.719262\n",
       "1290    26025.214680\n",
       "            ...     \n",
       "757      6606.558365\n",
       "1328     9990.834873\n",
       "1396   -36352.539138\n",
       "212     20033.164444\n",
       "1141    -2974.526022\n",
       "Name: Sale_Price, Length: 349, dtype: float64"
      ]
     },
     "execution_count": 80,
     "metadata": {},
     "output_type": "execute_result"
    }
   ],
   "source": [
    "error_test = ppt_test_y - pred_test\n",
    "error_test"
   ]
  },
  {
   "cell_type": "markdown",
   "id": "eb3f61ff",
   "metadata": {},
   "source": [
    "## Model Evaluation:- "
   ]
  },
  {
   "cell_type": "markdown",
   "id": "a4c87a24",
   "metadata": {},
   "source": [
    "### Evaluation parameters in Linear Regression model are: \n",
    "#### a)Rsquare.\n",
    "\n",
    "#### b)Adjusted Rsquare.\n",
    "\n",
    "#### c)MSE(Mean Square Error).\n",
    "\n",
    "#### d)RMSE(Root Mean Square Error).\n",
    "\n",
    "#### e)MAPE(Mean Absolute Percentage Error)."
   ]
  },
  {
   "cell_type": "code",
   "execution_count": 81,
   "id": "e3bf0996",
   "metadata": {},
   "outputs": [
    {
     "data": {
      "text/plain": [
       "0.8569499606571723"
      ]
     },
     "execution_count": 81,
     "metadata": {},
     "output_type": "execute_result"
    }
   ],
   "source": [
    "Rsquare = lr.score(ppt_train_x,ppt_train_y)\n",
    "Rsquare"
   ]
  },
  {
   "cell_type": "code",
   "execution_count": 82,
   "id": "2f02bc30",
   "metadata": {},
   "outputs": [],
   "source": [
    "N = ppt_train_x.shape[0]\n",
    "K = ppt_train_x.shape[1]"
   ]
  },
  {
   "cell_type": "code",
   "execution_count": 83,
   "id": "424347d4",
   "metadata": {},
   "outputs": [
    {
     "data": {
      "text/plain": [
       "0.8462175322172685"
      ]
     },
     "execution_count": 83,
     "metadata": {},
     "output_type": "execute_result"
    }
   ],
   "source": [
    "adj_Rsquare = 1-(1-Rsquare)*(N-1)/(N-K-1)\n",
    "adj_Rsquare"
   ]
  },
  {
   "cell_type": "code",
   "execution_count": 84,
   "id": "cb88421d",
   "metadata": {},
   "outputs": [
    {
     "data": {
      "text/plain": [
       "515048145.4063852"
      ]
     },
     "execution_count": 84,
     "metadata": {},
     "output_type": "execute_result"
    }
   ],
   "source": [
    "mse = np.mean(np.square(error_test))\n",
    "mse"
   ]
  },
  {
   "cell_type": "code",
   "execution_count": 85,
   "id": "d2498f56",
   "metadata": {},
   "outputs": [
    {
     "data": {
      "text/plain": [
       "22694.67218107336"
      ]
     },
     "execution_count": 85,
     "metadata": {},
     "output_type": "execute_result"
    }
   ],
   "source": [
    "rmse = np.sqrt(mse)\n",
    "rmse"
   ]
  },
  {
   "cell_type": "code",
   "execution_count": 86,
   "id": "11f18709",
   "metadata": {},
   "outputs": [
    {
     "data": {
      "text/plain": [
       "10.583075869449322"
      ]
     },
     "execution_count": 86,
     "metadata": {},
     "output_type": "execute_result"
    }
   ],
   "source": [
    "mape = np.mean(np.abs(error_test*100/ppt_test_y))\n",
    "mape"
   ]
  },
  {
   "cell_type": "markdown",
   "id": "0db572c7",
   "metadata": {},
   "source": [
    "### Conclusion:-\n",
    "\n",
    "#### According the evaluating parameters we get to know that our model is good.\n",
    "\n",
    "#### Higher the Rsquare better the model. \n",
    "#### lower the MAPE better the model.\n",
    "\n"
   ]
  },
  {
   "cell_type": "code",
   "execution_count": 87,
   "id": "351dd19e",
   "metadata": {},
   "outputs": [
    {
     "data": {
      "text/plain": [
       "array([-1.21590860e+02, -3.97260392e+03, -1.01141190e+02,  3.41653924e-01,\n",
       "        2.96764776e+04, -1.32846929e+03,  3.71672726e+03, -3.95726296e+04,\n",
       "       -4.38537470e+01,  1.43855601e+04,  2.34512596e+02,  1.23823317e+02,\n",
       "       -1.03842922e+04, -5.83270788e+01, -1.25956567e+03,  1.07354948e+04,\n",
       "        5.65978491e+03,  2.36072112e+02,  1.31033732e+02, -2.86577867e+02,\n",
       "        1.95830787e+04, -7.09406886e+02,  4.93451132e+02,  8.10818535e+00,\n",
       "       -3.48109361e+03,  1.46427245e+03,  1.76943075e+03, -5.85060886e+03,\n",
       "        7.23168590e+02, -2.27265361e+03, -9.45699388e+02, -1.06239819e+00,\n",
       "        2.09277160e+03,  1.40341104e+01, -4.63000097e+00,  8.34171117e+00,\n",
       "       -7.56309150e+02, -1.62372502e+03,  2.42275462e+03,  6.14717609e+00,\n",
       "        8.84382609e+00,  1.54791016e+01, -4.22595418e+00,  2.00969736e+01,\n",
       "        8.80486786e+03, -1.67116420e+03,  2.29077876e+03, -2.38426165e+03,\n",
       "        1.91202857e+03, -8.30437745e+03, -6.61694943e+03,  1.86679054e+03,\n",
       "        1.38364958e+03,  7.12024964e+03, -1.09278308e+03, -8.23242821e+01,\n",
       "       -8.72475240e+02,  1.18783884e+04, -7.19706264e-01, -1.05527288e+03,\n",
       "        1.10864319e+03,  1.18732088e+03, -1.30196954e+00,  1.47214987e+01,\n",
       "        2.46174592e-02,  3.05138318e+01,  3.86861850e+01, -6.47431609e+01,\n",
       "        2.71307328e-01,  6.05148944e+01, -4.76185281e+02, -4.25959837e+02,\n",
       "        2.45671164e+03])"
      ]
     },
     "execution_count": 87,
     "metadata": {},
     "output_type": "execute_result"
    }
   ],
   "source": [
    "lr.coef_  #coef gives values of beta1,beta2.....betan"
   ]
  },
  {
   "cell_type": "code",
   "execution_count": 88,
   "id": "8cb04a53",
   "metadata": {},
   "outputs": [
    {
     "data": {
      "text/plain": [
       "320354.58224732743"
      ]
     },
     "execution_count": 88,
     "metadata": {},
     "output_type": "execute_result"
    }
   ],
   "source": [
    "lr.intercept_   #gives value of beta0"
   ]
  },
  {
   "cell_type": "markdown",
   "id": "e6ebbfe7",
   "metadata": {},
   "source": [
    "#### Let is check the assumption"
   ]
  },
  {
   "cell_type": "code",
   "execution_count": 89,
   "id": "961c3c64",
   "metadata": {},
   "outputs": [],
   "source": [
    "err_train = ppt_train_y - pred_train"
   ]
  },
  {
   "cell_type": "code",
   "execution_count": 90,
   "id": "c7d03ca3",
   "metadata": {},
   "outputs": [],
   "source": [
    "# Error terms are normally distributed or not"
   ]
  },
  {
   "cell_type": "markdown",
   "id": "c4afb0dd",
   "metadata": {},
   "source": [
    "### Visual Representation"
   ]
  },
  {
   "cell_type": "code",
   "execution_count": 91,
   "id": "c5ddd347",
   "metadata": {},
   "outputs": [],
   "source": [
    "import matplotlib.pyplot as plt"
   ]
  },
  {
   "cell_type": "code",
   "execution_count": 92,
   "id": "b2cb5d90",
   "metadata": {},
   "outputs": [
    {
     "data": {
      "text/plain": [
       "[<matplotlib.lines.Line2D at 0x17b2e85ffd0>]"
      ]
     },
     "execution_count": 92,
     "metadata": {},
     "output_type": "execute_result"
    },
    {
     "data": {
      "image/png": "[encoded data removed]",
      "text/plain": [
       "<Figure size 640x480 with 1 Axes>"
      ]
     },
     "metadata": {},
     "output_type": "display_data"
    }
   ],
   "source": [
    "plt.plot(err_train,'*')"
   ]
  },
  {
   "cell_type": "code",
   "execution_count": 93,
   "id": "337ee2e0",
   "metadata": {},
   "outputs": [
    {
     "data": {
      "image/png": "[encoded data removed]",
      "text/plain": [
       "<Figure size 640x480 with 1 Axes>"
      ]
     },
     "metadata": {},
     "output_type": "display_data"
    }
   ],
   "source": [
    "plt.hist(err_train, bins= 35,edgecolor=\"r\");"
   ]
  },
  {
   "cell_type": "code",
   "execution_count": 94,
   "id": "f7c77098",
   "metadata": {},
   "outputs": [],
   "source": [
    "pred_actual_df = pd.DataFrame()"
   ]
  },
  {
   "cell_type": "code",
   "execution_count": 95,
   "id": "191a4b6c",
   "metadata": {},
   "outputs": [],
   "source": [
    "pred_actual_df['Actual'] = ppt_train_y\n",
    "pred_actual_df['Predicted'] = pred_train"
   ]
  },
  {
   "cell_type": "code",
   "execution_count": 96,
   "id": "ecc8439a",
   "metadata": {},
   "outputs": [
    {
     "data": {
      "text/html": [
       "<div>\n",
       "<style scoped>\n",
       "    .dataframe tbody tr th:only-of-type {\n",
       "        vertical-align: middle;\n",
       "    }\n",
       "\n",
       "    .dataframe tbody tr th {\n",
       "        vertical-align: top;\n",
       "    }\n",
       "\n",
       "    .dataframe thead th {\n",
       "        text-align: right;\n",
       "    }\n",
       "</style>\n",
       "<table border=\"1\" class=\"dataframe\">\n",
       "  <thead>\n",
       "    <tr style=\"text-align: right;\">\n",
       "      <th></th>\n",
       "      <th>Actual</th>\n",
       "      <th>Predicted</th>\n",
       "    </tr>\n",
       "  </thead>\n",
       "  <tbody>\n",
       "    <tr>\n",
       "      <th>1176</th>\n",
       "      <td>119500</td>\n",
       "      <td>131886.734587</td>\n",
       "    </tr>\n",
       "    <tr>\n",
       "      <th>208</th>\n",
       "      <td>277000</td>\n",
       "      <td>247204.631168</td>\n",
       "    </tr>\n",
       "    <tr>\n",
       "      <th>139</th>\n",
       "      <td>231500</td>\n",
       "      <td>198403.909446</td>\n",
       "    </tr>\n",
       "    <tr>\n",
       "      <th>49</th>\n",
       "      <td>127000</td>\n",
       "      <td>142218.348959</td>\n",
       "    </tr>\n",
       "    <tr>\n",
       "      <th>717</th>\n",
       "      <td>157000</td>\n",
       "      <td>160964.303046</td>\n",
       "    </tr>\n",
       "    <tr>\n",
       "      <th>...</th>\n",
       "      <td>...</td>\n",
       "      <td>...</td>\n",
       "    </tr>\n",
       "    <tr>\n",
       "      <th>1151</th>\n",
       "      <td>149900</td>\n",
       "      <td>160715.110969</td>\n",
       "    </tr>\n",
       "    <tr>\n",
       "      <th>969</th>\n",
       "      <td>140000</td>\n",
       "      <td>109248.356734</td>\n",
       "    </tr>\n",
       "    <tr>\n",
       "      <th>862</th>\n",
       "      <td>152000</td>\n",
       "      <td>155452.492772</td>\n",
       "    </tr>\n",
       "    <tr>\n",
       "      <th>93</th>\n",
       "      <td>133900</td>\n",
       "      <td>179946.740478</td>\n",
       "    </tr>\n",
       "    <tr>\n",
       "      <th>1163</th>\n",
       "      <td>108959</td>\n",
       "      <td>114676.088776</td>\n",
       "    </tr>\n",
       "  </tbody>\n",
       "</table>\n",
       "<p>1047 rows × 2 columns</p>\n",
       "</div>"
      ],
      "text/plain": [
       "      Actual      Predicted\n",
       "1176  119500  131886.734587\n",
       "208   277000  247204.631168\n",
       "139   231500  198403.909446\n",
       "49    127000  142218.348959\n",
       "717   157000  160964.303046\n",
       "...      ...            ...\n",
       "1151  149900  160715.110969\n",
       "969   140000  109248.356734\n",
       "862   152000  155452.492772\n",
       "93    133900  179946.740478\n",
       "1163  108959  114676.088776\n",
       "\n",
       "[1047 rows x 2 columns]"
      ]
     },
     "execution_count": 96,
     "metadata": {},
     "output_type": "execute_result"
    }
   ],
   "source": [
    "pred_actual_df"
   ]
  },
  {
   "cell_type": "code",
   "execution_count": 97,
   "id": "58f83e4f",
   "metadata": {},
   "outputs": [],
   "source": [
    "import seaborn as sns"
   ]
  },
  {
   "cell_type": "code",
   "execution_count": 98,
   "id": "4e63b39c",
   "metadata": {},
   "outputs": [
    {
     "data": {
      "text/plain": [
       "<seaborn.axisgrid.JointGrid at 0x17b2fad8ed0>"
      ]
     },
     "execution_count": 98,
     "metadata": {},
     "output_type": "execute_result"
    },
    {
     "data": {
      "image/png": "[encoded data removed]",
      "text/plain": [
       "<Figure size 600x600 with 3 Axes>"
      ]
     },
     "metadata": {},
     "output_type": "display_data"
    }
   ],
   "source": [
    "sns.jointplot(x=\"Actual\",y=\"Predicted\",data=pred_actual_df,kind=\"reg\")"
   ]
  },
  {
   "cell_type": "markdown",
   "id": "389f05e9",
   "metadata": {},
   "source": [
    "#### You've plotted histograms and joint plots to visualize the distribution of the features and their relationship with the target variable. This helps in understanding the data distribution and identifying potential outliers.\n",
    "\n",
    "#### To remove this outliers we use remove_outlier function."
   ]
  },
  {
   "cell_type": "code",
   "execution_count": 99,
   "id": "3d77cc82",
   "metadata": {},
   "outputs": [],
   "source": [
    "def remove_outlier(df,col,k):\n",
    "    global df1\n",
    "    mean =df[col].mean()\n",
    "    sd = df[col].std()\n",
    "    final_list =[x for x in df[col] if (x> mean - k*sd)]\n",
    "    final_list =[x for x in final_list if (x<mean +k*sd)]\n",
    "    df1 = df.loc[df[col].isin(final_list)]; print(df1.shape)\n",
    "    print(\"Number of outliers removed-------->\", df.shape[0] - df1.shape[0])"
   ]
  },
  {
   "cell_type": "code",
   "execution_count": 100,
   "id": "87ea31a3",
   "metadata": {},
   "outputs": [
    {
     "name": "stdout",
     "output_type": "stream",
     "text": [
      "(1326, 74)\n",
      "Number of outliers removed--------> 70\n"
     ]
    }
   ],
   "source": [
    "remove_outlier(ppt,'Sale_Price',2)"
   ]
  },
  {
   "cell_type": "markdown",
   "id": "354fcdd9",
   "metadata": {},
   "source": [
    "### Conclusion\n",
    "#### After removing outliers from the data we got predicted data normally distributed.  A normally distributed set of predicted values indicates that the model is performing well and is providing reliable estimates of Sale prices."
   ]
  },
  {
   "cell_type": "markdown",
   "id": "986f296b",
   "metadata": {},
   "source": [
    "## Final Conclusion :- "
   ]
  },
  {
   "cell_type": "markdown",
   "id": "a7ff561b",
   "metadata": {},
   "source": [
    "### Based on these steps, you can conclude that your linear regression model is performing well, with a high R-squared value, low RMSE, and normally distributed predicted Sale prices. "
   ]
  },
  {
   "cell_type": "code",
   "execution_count": null,
   "id": "22ba061c",
   "metadata": {},
   "outputs": [],
   "source": []
  },
  {
   "cell_type": "code",
   "execution_count": null,
   "id": "22ae4ca1",
   "metadata": {},
   "outputs": [],
   "source": []
  }
 ],
 "metadata": {
  "kernelspec": {
   "display_name": "Python 3 (ipykernel)",
   "language": "python",
   "name": "python3"
  },
  "language_info": {
   "codemirror_mode": {
    "name": "ipython",
    "version": 3
   },
   "file_extension": ".py",
   "mimetype": "text/x-python",
   "name": "python",
   "nbconvert_exporter": "python",
   "pygments_lexer": "ipython3",
   "version": "3.11.5"
  }
 },
 "nbformat": 4,
 "nbformat_minor": 5
}
