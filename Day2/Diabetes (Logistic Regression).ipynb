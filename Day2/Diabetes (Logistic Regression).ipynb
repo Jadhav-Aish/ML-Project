{
 "cells": [
  {
   "cell_type": "markdown",
   "id": "a16a7a0f",
   "metadata": {},
   "source": [
    "## 1) Problem Statement :- Predicting Diabetes using Logistic Regression"
   ]
  },
  {
   "cell_type": "markdown",
   "id": "8926b2df",
   "metadata": {},
   "source": [
    "### Import Libraries"
   ]
  },
  {
   "cell_type": "code",
   "execution_count": 1,
   "id": "c5dee283",
   "metadata": {},
   "outputs": [],
   "source": [
    "import numpy as np \n",
    "import pandas as pd"
   ]
  },
  {
   "cell_type": "markdown",
   "id": "411042ff",
   "metadata": {},
   "source": [
    "## 2) Loade dataset :-"
   ]
  },
  {
   "cell_type": "code",
   "execution_count": 2,
   "id": "6c86b452",
   "metadata": {},
   "outputs": [
    {
     "data": {
      "text/html": [
       "<div>\n",
       "<style scoped>\n",
       "    .dataframe tbody tr th:only-of-type {\n",
       "        vertical-align: middle;\n",
       "    }\n",
       "\n",
       "    .dataframe tbody tr th {\n",
       "        vertical-align: top;\n",
       "    }\n",
       "\n",
       "    .dataframe thead th {\n",
       "        text-align: right;\n",
       "    }\n",
       "</style>\n",
       "<table border=\"1\" class=\"dataframe\">\n",
       "  <thead>\n",
       "    <tr style=\"text-align: right;\">\n",
       "      <th></th>\n",
       "      <th>Pregnancies</th>\n",
       "      <th>Glucose</th>\n",
       "      <th>BloodPressure</th>\n",
       "      <th>SkinThickness</th>\n",
       "      <th>Insulin</th>\n",
       "      <th>BMI</th>\n",
       "      <th>DiabetesPedigreeFunction</th>\n",
       "      <th>Age</th>\n",
       "      <th>Outcome</th>\n",
       "    </tr>\n",
       "  </thead>\n",
       "  <tbody>\n",
       "    <tr>\n",
       "      <th>0</th>\n",
       "      <td>6</td>\n",
       "      <td>148</td>\n",
       "      <td>72</td>\n",
       "      <td>35</td>\n",
       "      <td>0</td>\n",
       "      <td>33.6</td>\n",
       "      <td>0.627</td>\n",
       "      <td>50</td>\n",
       "      <td>1</td>\n",
       "    </tr>\n",
       "    <tr>\n",
       "      <th>1</th>\n",
       "      <td>1</td>\n",
       "      <td>85</td>\n",
       "      <td>66</td>\n",
       "      <td>29</td>\n",
       "      <td>0</td>\n",
       "      <td>26.6</td>\n",
       "      <td>0.351</td>\n",
       "      <td>31</td>\n",
       "      <td>0</td>\n",
       "    </tr>\n",
       "    <tr>\n",
       "      <th>2</th>\n",
       "      <td>8</td>\n",
       "      <td>183</td>\n",
       "      <td>64</td>\n",
       "      <td>0</td>\n",
       "      <td>0</td>\n",
       "      <td>23.3</td>\n",
       "      <td>0.672</td>\n",
       "      <td>32</td>\n",
       "      <td>1</td>\n",
       "    </tr>\n",
       "    <tr>\n",
       "      <th>3</th>\n",
       "      <td>1</td>\n",
       "      <td>89</td>\n",
       "      <td>66</td>\n",
       "      <td>23</td>\n",
       "      <td>94</td>\n",
       "      <td>28.1</td>\n",
       "      <td>0.167</td>\n",
       "      <td>21</td>\n",
       "      <td>0</td>\n",
       "    </tr>\n",
       "    <tr>\n",
       "      <th>4</th>\n",
       "      <td>0</td>\n",
       "      <td>137</td>\n",
       "      <td>40</td>\n",
       "      <td>35</td>\n",
       "      <td>168</td>\n",
       "      <td>43.1</td>\n",
       "      <td>2.288</td>\n",
       "      <td>33</td>\n",
       "      <td>1</td>\n",
       "    </tr>\n",
       "    <tr>\n",
       "      <th>...</th>\n",
       "      <td>...</td>\n",
       "      <td>...</td>\n",
       "      <td>...</td>\n",
       "      <td>...</td>\n",
       "      <td>...</td>\n",
       "      <td>...</td>\n",
       "      <td>...</td>\n",
       "      <td>...</td>\n",
       "      <td>...</td>\n",
       "    </tr>\n",
       "    <tr>\n",
       "      <th>763</th>\n",
       "      <td>10</td>\n",
       "      <td>101</td>\n",
       "      <td>76</td>\n",
       "      <td>48</td>\n",
       "      <td>180</td>\n",
       "      <td>32.9</td>\n",
       "      <td>0.171</td>\n",
       "      <td>63</td>\n",
       "      <td>0</td>\n",
       "    </tr>\n",
       "    <tr>\n",
       "      <th>764</th>\n",
       "      <td>2</td>\n",
       "      <td>122</td>\n",
       "      <td>70</td>\n",
       "      <td>27</td>\n",
       "      <td>0</td>\n",
       "      <td>36.8</td>\n",
       "      <td>0.340</td>\n",
       "      <td>27</td>\n",
       "      <td>0</td>\n",
       "    </tr>\n",
       "    <tr>\n",
       "      <th>765</th>\n",
       "      <td>5</td>\n",
       "      <td>121</td>\n",
       "      <td>72</td>\n",
       "      <td>23</td>\n",
       "      <td>112</td>\n",
       "      <td>26.2</td>\n",
       "      <td>0.245</td>\n",
       "      <td>30</td>\n",
       "      <td>0</td>\n",
       "    </tr>\n",
       "    <tr>\n",
       "      <th>766</th>\n",
       "      <td>1</td>\n",
       "      <td>126</td>\n",
       "      <td>60</td>\n",
       "      <td>0</td>\n",
       "      <td>0</td>\n",
       "      <td>30.1</td>\n",
       "      <td>0.349</td>\n",
       "      <td>47</td>\n",
       "      <td>1</td>\n",
       "    </tr>\n",
       "    <tr>\n",
       "      <th>767</th>\n",
       "      <td>1</td>\n",
       "      <td>93</td>\n",
       "      <td>70</td>\n",
       "      <td>31</td>\n",
       "      <td>0</td>\n",
       "      <td>30.4</td>\n",
       "      <td>0.315</td>\n",
       "      <td>23</td>\n",
       "      <td>0</td>\n",
       "    </tr>\n",
       "  </tbody>\n",
       "</table>\n",
       "<p>768 rows × 9 columns</p>\n",
       "</div>"
      ],
      "text/plain": [
       "     Pregnancies  Glucose  BloodPressure  SkinThickness  Insulin   BMI  \\\n",
       "0              6      148             72             35        0  33.6   \n",
       "1              1       85             66             29        0  26.6   \n",
       "2              8      183             64              0        0  23.3   \n",
       "3              1       89             66             23       94  28.1   \n",
       "4              0      137             40             35      168  43.1   \n",
       "..           ...      ...            ...            ...      ...   ...   \n",
       "763           10      101             76             48      180  32.9   \n",
       "764            2      122             70             27        0  36.8   \n",
       "765            5      121             72             23      112  26.2   \n",
       "766            1      126             60              0        0  30.1   \n",
       "767            1       93             70             31        0  30.4   \n",
       "\n",
       "     DiabetesPedigreeFunction  Age  Outcome  \n",
       "0                       0.627   50        1  \n",
       "1                       0.351   31        0  \n",
       "2                       0.672   32        1  \n",
       "3                       0.167   21        0  \n",
       "4                       2.288   33        1  \n",
       "..                        ...  ...      ...  \n",
       "763                     0.171   63        0  \n",
       "764                     0.340   27        0  \n",
       "765                     0.245   30        0  \n",
       "766                     0.349   47        1  \n",
       "767                     0.315   23        0  \n",
       "\n",
       "[768 rows x 9 columns]"
      ]
     },
     "execution_count": 2,
     "metadata": {},
     "output_type": "execute_result"
    }
   ],
   "source": [
    "data=pd.read_csv(r\"C:\\Users\\jadha\\Downloads\\diabetes.csv\")\n",
    "data"
   ]
  },
  {
   "cell_type": "markdown",
   "id": "684a618d",
   "metadata": {},
   "source": [
    "## 3) Data Preprocessing :-"
   ]
  },
  {
   "cell_type": "code",
   "execution_count": 3,
   "id": "b98212d7",
   "metadata": {},
   "outputs": [
    {
     "data": {
      "text/plain": [
       "(768, 9)"
      ]
     },
     "execution_count": 3,
     "metadata": {},
     "output_type": "execute_result"
    }
   ],
   "source": [
    "data.shape"
   ]
  },
  {
   "cell_type": "markdown",
   "id": "be1ba744",
   "metadata": {},
   "source": [
    " The 'diabetes' dataset contains 768 rows and 9 columns."
   ]
  },
  {
   "cell_type": "markdown",
   "id": "1f616a5e",
   "metadata": {},
   "source": [
    "1. Pregnancies: Number of times pregnant\n",
    "2. Glucose: Plasma glucose concentration a 2 hours in an oral glucose tolerance test\n",
    "3. BloodPressure: Diastolic blood pressure (mm Hg)\n",
    "4. SkinThickness: Triceps skin fold thickness (mm)\n",
    "5. Insulin: 2-Hour serum insulin (mu U/ml)\n",
    "6. BMI: Body mass index (weight in kg/(height in m)^2)\n",
    "7. DiabetesPedigreeFunction: Diabetes pedigree function\n",
    "8. Age: Age (years)\n",
    "9. Outcome: Class variable (0 or 1)"
   ]
  },
  {
   "cell_type": "code",
   "execution_count": 4,
   "id": "953dabf5",
   "metadata": {},
   "outputs": [
    {
     "name": "stdout",
     "output_type": "stream",
     "text": [
      "<class 'pandas.core.frame.DataFrame'>\n",
      "RangeIndex: 768 entries, 0 to 767\n",
      "Data columns (total 9 columns):\n",
      " #   Column                    Non-Null Count  Dtype  \n",
      "---  ------                    --------------  -----  \n",
      " 0   Pregnancies               768 non-null    int64  \n",
      " 1   Glucose                   768 non-null    int64  \n",
      " 2   BloodPressure             768 non-null    int64  \n",
      " 3   SkinThickness             768 non-null    int64  \n",
      " 4   Insulin                   768 non-null    int64  \n",
      " 5   BMI                       768 non-null    float64\n",
      " 6   DiabetesPedigreeFunction  768 non-null    float64\n",
      " 7   Age                       768 non-null    int64  \n",
      " 8   Outcome                   768 non-null    int64  \n",
      "dtypes: float64(2), int64(7)\n",
      "memory usage: 54.1 KB\n"
     ]
    }
   ],
   "source": [
    "data.info()"
   ]
  },
  {
   "cell_type": "code",
   "execution_count": 5,
   "id": "55a7d461",
   "metadata": {},
   "outputs": [
    {
     "data": {
      "text/plain": [
       "Pregnancies                 0\n",
       "Glucose                     0\n",
       "BloodPressure               0\n",
       "SkinThickness               0\n",
       "Insulin                     0\n",
       "BMI                         0\n",
       "DiabetesPedigreeFunction    0\n",
       "Age                         0\n",
       "Outcome                     0\n",
       "dtype: int64"
      ]
     },
     "execution_count": 5,
     "metadata": {},
     "output_type": "execute_result"
    }
   ],
   "source": [
    "data.isnull().sum()"
   ]
  },
  {
   "cell_type": "markdown",
   "id": "9cb74cdc",
   "metadata": {},
   "source": [
    "For our logistic regression Model, we're using the following columns:\n",
    " - Features: Pregnancies, Glucose, BloodPressure, SkinThickness, Insulin, BMI, DiabetesPedigreeFunction, Age\n",
    " - Target variable: Outcome (Oure target variable is 0 & 1)\n"
   ]
  },
  {
   "cell_type": "markdown",
   "id": "7fd0cc08",
   "metadata": {},
   "source": [
    "## 4) Sampling :- Divide data into Train & Test"
   ]
  },
  {
   "cell_type": "code",
   "execution_count": 6,
   "id": "a25a5518",
   "metadata": {},
   "outputs": [],
   "source": [
    "from sklearn.model_selection import train_test_split"
   ]
  },
  {
   "cell_type": "code",
   "execution_count": 7,
   "id": "6c253b0b",
   "metadata": {},
   "outputs": [],
   "source": [
    "data_train,data_test = train_test_split(data,test_size=.2)"
   ]
  },
  {
   "cell_type": "markdown",
   "id": "d49d9c2a",
   "metadata": {},
   "source": [
    "#### Define the data into x & y "
   ]
  },
  {
   "cell_type": "code",
   "execution_count": 8,
   "id": "a87b8831",
   "metadata": {},
   "outputs": [],
   "source": [
    "data_train_x = data_train.iloc[:,0:-1]\n",
    "data_train_y = data_train.iloc[:,-1]"
   ]
  },
  {
   "cell_type": "code",
   "execution_count": 9,
   "id": "0ae149a0",
   "metadata": {},
   "outputs": [],
   "source": [
    "data_test_x = data_test.iloc[:,0:-1]\n",
    "data_test_y = data_test.iloc[:,-1]"
   ]
  },
  {
   "cell_type": "markdown",
   "id": "dbc52095",
   "metadata": {},
   "source": [
    "## 5) Model Building:-"
   ]
  },
  {
   "cell_type": "code",
   "execution_count": 10,
   "id": "b3999b71",
   "metadata": {},
   "outputs": [],
   "source": [
    "from sklearn.linear_model import LogisticRegression"
   ]
  },
  {
   "cell_type": "code",
   "execution_count": 11,
   "id": "c177958d",
   "metadata": {},
   "outputs": [],
   "source": [
    "lr=LogisticRegression()"
   ]
  },
  {
   "cell_type": "code",
   "execution_count": 12,
   "id": "9627fa72",
   "metadata": {},
   "outputs": [
    {
     "name": "stderr",
     "output_type": "stream",
     "text": [
      "C:\\Users\\jadha\\anaconda3\\Lib\\site-packages\\sklearn\\linear_model\\_logistic.py:460: ConvergenceWarning: lbfgs failed to converge (status=1):\n",
      "STOP: TOTAL NO. of ITERATIONS REACHED LIMIT.\n",
      "\n",
      "Increase the number of iterations (max_iter) or scale the data as shown in:\n",
      "    https://scikit-learn.org/stable/modules/preprocessing.html\n",
      "Please also refer to the documentation for alternative solver options:\n",
      "    https://scikit-learn.org/stable/modules/linear_model.html#logistic-regression\n",
      "  n_iter_i = _check_optimize_result(\n"
     ]
    },
    {
     "data": {
      "text/html": [
       "<style>#sk-container-id-1 {color: black;}#sk-container-id-1 pre{padding: 0;}#sk-container-id-1 div.sk-toggleable {background-color: white;}#sk-container-id-1 label.sk-toggleable__label {cursor: pointer;display: block;width: 100%;margin-bottom: 0;padding: 0.3em;box-sizing: border-box;text-align: center;}#sk-container-id-1 label.sk-toggleable__label-arrow:before {content: \"▸\";float: left;margin-right: 0.25em;color: #696969;}#sk-container-id-1 label.sk-toggleable__label-arrow:hover:before {color: black;}#sk-container-id-1 div.sk-estimator:hover label.sk-toggleable__label-arrow:before {color: black;}#sk-container-id-1 div.sk-toggleable__content {max-height: 0;max-width: 0;overflow: hidden;text-align: left;background-color: #f0f8ff;}#sk-container-id-1 div.sk-toggleable__content pre {margin: 0.2em;color: black;border-radius: 0.25em;background-color: #f0f8ff;}#sk-container-id-1 input.sk-toggleable__control:checked~div.sk-toggleable__content {max-height: 200px;max-width: 100%;overflow: auto;}#sk-container-id-1 input.sk-toggleable__control:checked~label.sk-toggleable__label-arrow:before {content: \"▾\";}#sk-container-id-1 div.sk-estimator input.sk-toggleable__control:checked~label.sk-toggleable__label {background-color: #d4ebff;}#sk-container-id-1 div.sk-label input.sk-toggleable__control:checked~label.sk-toggleable__label {background-color: #d4ebff;}#sk-container-id-1 input.sk-hidden--visually {border: 0;clip: rect(1px 1px 1px 1px);clip: rect(1px, 1px, 1px, 1px);height: 1px;margin: -1px;overflow: hidden;padding: 0;position: absolute;width: 1px;}#sk-container-id-1 div.sk-estimator {font-family: monospace;background-color: #f0f8ff;border: 1px dotted black;border-radius: 0.25em;box-sizing: border-box;margin-bottom: 0.5em;}#sk-container-id-1 div.sk-estimator:hover {background-color: #d4ebff;}#sk-container-id-1 div.sk-parallel-item::after {content: \"\";width: 100%;border-bottom: 1px solid gray;flex-grow: 1;}#sk-container-id-1 div.sk-label:hover label.sk-toggleable__label {background-color: #d4ebff;}#sk-container-id-1 div.sk-serial::before {content: \"\";position: absolute;border-left: 1px solid gray;box-sizing: border-box;top: 0;bottom: 0;left: 50%;z-index: 0;}#sk-container-id-1 div.sk-serial {display: flex;flex-direction: column;align-items: center;background-color: white;padding-right: 0.2em;padding-left: 0.2em;position: relative;}#sk-container-id-1 div.sk-item {position: relative;z-index: 1;}#sk-container-id-1 div.sk-parallel {display: flex;align-items: stretch;justify-content: center;background-color: white;position: relative;}#sk-container-id-1 div.sk-item::before, #sk-container-id-1 div.sk-parallel-item::before {content: \"\";position: absolute;border-left: 1px solid gray;box-sizing: border-box;top: 0;bottom: 0;left: 50%;z-index: -1;}#sk-container-id-1 div.sk-parallel-item {display: flex;flex-direction: column;z-index: 1;position: relative;background-color: white;}#sk-container-id-1 div.sk-parallel-item:first-child::after {align-self: flex-end;width: 50%;}#sk-container-id-1 div.sk-parallel-item:last-child::after {align-self: flex-start;width: 50%;}#sk-container-id-1 div.sk-parallel-item:only-child::after {width: 0;}#sk-container-id-1 div.sk-dashed-wrapped {border: 1px dashed gray;margin: 0 0.4em 0.5em 0.4em;box-sizing: border-box;padding-bottom: 0.4em;background-color: white;}#sk-container-id-1 div.sk-label label {font-family: monospace;font-weight: bold;display: inline-block;line-height: 1.2em;}#sk-container-id-1 div.sk-label-container {text-align: center;}#sk-container-id-1 div.sk-container {/* jupyter's `normalize.less` sets `[hidden] { display: none; }` but bootstrap.min.css set `[hidden] { display: none !important; }` so we also need the `!important` here to be able to override the default hidden behavior on the sphinx rendered scikit-learn.org. See: https://github.com/scikit-learn/scikit-learn/issues/21755 */display: inline-block !important;position: relative;}#sk-container-id-1 div.sk-text-repr-fallback {display: none;}</style><div id=\"sk-container-id-1\" class=\"sk-top-container\"><div class=\"sk-text-repr-fallback\"><pre>LogisticRegression()</pre><b>In a Jupyter environment, please rerun this cell to show the HTML representation or trust the notebook. <br />On GitHub, the HTML representation is unable to render, please try loading this page with nbviewer.org.</b></div><div class=\"sk-container\" hidden><div class=\"sk-item\"><div class=\"sk-estimator sk-toggleable\"><input class=\"sk-toggleable__control sk-hidden--visually\" id=\"sk-estimator-id-1\" type=\"checkbox\" checked><label for=\"sk-estimator-id-1\" class=\"sk-toggleable__label sk-toggleable__label-arrow\">LogisticRegression</label><div class=\"sk-toggleable__content\"><pre>LogisticRegression()</pre></div></div></div></div></div>"
      ],
      "text/plain": [
       "LogisticRegression()"
      ]
     },
     "execution_count": 12,
     "metadata": {},
     "output_type": "execute_result"
    }
   ],
   "source": [
    "lr.fit(data_train_x,data_train_y)"
   ]
  },
  {
   "cell_type": "markdown",
   "id": "9f9b7e55",
   "metadata": {},
   "source": [
    "#### Prediction"
   ]
  },
  {
   "cell_type": "code",
   "execution_count": 13,
   "id": "b6170a5e",
   "metadata": {},
   "outputs": [
    {
     "data": {
      "text/plain": [
       "array([0, 0, 0, 1, 1, 0, 0, 1, 0, 1, 1, 1, 0, 0, 0, 0, 1, 1, 1, 1, 0, 0,\n",
       "       0, 1, 0, 0, 1, 0, 0, 0, 0, 0, 1, 1, 1, 0, 0, 0, 0, 0, 0, 1, 0, 0,\n",
       "       0, 0, 0, 1, 0, 0, 1, 0, 0, 1, 0, 1, 0, 0, 0, 0, 1, 0, 1, 0, 1, 0,\n",
       "       1, 0, 1, 0, 1, 1, 1, 0, 0, 0, 0, 0, 1, 1, 1, 0, 0, 1, 0, 1, 0, 1,\n",
       "       0, 0, 1, 0, 0, 0, 0, 0, 1, 0, 0, 0, 0, 1, 0, 0, 0, 1, 0, 0, 0, 0,\n",
       "       0, 0, 0, 0, 1, 0, 0, 0, 0, 0, 0, 0, 0, 0, 0, 0, 0, 0, 0, 0, 1, 0,\n",
       "       0, 1, 0, 1, 1, 0, 0, 0, 1, 0, 0, 0, 1, 0, 1, 0, 1, 1, 0, 0, 0, 1],\n",
       "      dtype=int64)"
      ]
     },
     "execution_count": 13,
     "metadata": {},
     "output_type": "execute_result"
    }
   ],
   "source": [
    "pred = lr.predict(data_test_x)\n",
    "pred"
   ]
  },
  {
   "cell_type": "code",
   "execution_count": 14,
   "id": "62515e62",
   "metadata": {},
   "outputs": [],
   "source": [
    "from sklearn.metrics import confusion_matrix"
   ]
  },
  {
   "cell_type": "code",
   "execution_count": 15,
   "id": "0b468b21",
   "metadata": {},
   "outputs": [
    {
     "data": {
      "text/plain": [
       "array([[84, 17],\n",
       "       [21, 32]], dtype=int64)"
      ]
     },
     "execution_count": 15,
     "metadata": {},
     "output_type": "execute_result"
    }
   ],
   "source": [
    "cm = confusion_matrix(data_test_y,pred)\n",
    "cm"
   ]
  },
  {
   "cell_type": "markdown",
   "id": "b038b612",
   "metadata": {},
   "source": [
    "## Model Evaluation :-\n",
    "\n",
    "### Evaluation parameters in Linear Regression model are :-\n",
    " a) Accuracy.\n",
    " b) Tpr/Recall.\n",
    " c) Precission.\n",
    " d) F1 Ratio.\n",
    " e) Auroc Curve."
   ]
  },
  {
   "cell_type": "code",
   "execution_count": 16,
   "id": "b09b14b9",
   "metadata": {},
   "outputs": [
    {
     "data": {
      "text/plain": [
       "75.32467532467533"
      ]
     },
     "execution_count": 16,
     "metadata": {},
     "output_type": "execute_result"
    }
   ],
   "source": [
    "# accuracy\n",
    "from sklearn.metrics import accuracy_score\n",
    "accuracy_score(data_test_y,pred)*100"
   ]
  },
  {
   "cell_type": "code",
   "execution_count": 17,
   "id": "0267994e",
   "metadata": {},
   "outputs": [
    {
     "data": {
      "text/plain": [
       "60.37735849056604"
      ]
     },
     "execution_count": 17,
     "metadata": {},
     "output_type": "execute_result"
    }
   ],
   "source": [
    "# tpr/Recall\n",
    "from sklearn.metrics import recall_score\n",
    "recall_score(data_test_y,pred)*100"
   ]
  },
  {
   "cell_type": "code",
   "execution_count": 18,
   "id": "5b4fe322",
   "metadata": {},
   "outputs": [
    {
     "data": {
      "text/plain": [
       "65.3061224489796"
      ]
     },
     "execution_count": 18,
     "metadata": {},
     "output_type": "execute_result"
    }
   ],
   "source": [
    "# precission\n",
    "from sklearn.metrics import precision_score\n",
    "precision_score(data_test_y,pred)*100\n"
   ]
  },
  {
   "cell_type": "code",
   "execution_count": 19,
   "id": "eb964973",
   "metadata": {},
   "outputs": [
    {
     "data": {
      "text/plain": [
       "62.74509803921568"
      ]
     },
     "execution_count": 19,
     "metadata": {},
     "output_type": "execute_result"
    }
   ],
   "source": [
    "# f1 ratio\n",
    "from sklearn.metrics import f1_score\n",
    "f1_score(data_test_y,pred)*100"
   ]
  },
  {
   "cell_type": "markdown",
   "id": "2cdfb36e",
   "metadata": {},
   "source": [
    "#### Conclusion:-\n",
    "According the evaluating parameters we get to know that our model is good. Higher the Accuracy better the model. Higher the precission better the model."
   ]
  },
  {
   "cell_type": "code",
   "execution_count": 20,
   "id": "df925ae8",
   "metadata": {},
   "outputs": [
    {
     "data": {
      "text/plain": [
       "array([[0.71236924, 0.28763076],\n",
       "       [0.92833297, 0.07166703],\n",
       "       [0.87795934, 0.12204066],\n",
       "       [0.17886397, 0.82113603],\n",
       "       [0.39677868, 0.60322132],\n",
       "       [0.99174508, 0.00825492],\n",
       "       [0.86310915, 0.13689085],\n",
       "       [0.47313257, 0.52686743],\n",
       "       [0.66132002, 0.33867998],\n",
       "       [0.46334382, 0.53665618],\n",
       "       [0.41688802, 0.58311198],\n",
       "       [0.08883901, 0.91116099],\n",
       "       [0.85090316, 0.14909684],\n",
       "       [0.70898119, 0.29101881],\n",
       "       [0.92913883, 0.07086117],\n",
       "       [0.570681  , 0.429319  ],\n",
       "       [0.02223177, 0.97776823],\n",
       "       [0.10156262, 0.89843738],\n",
       "       [0.23142695, 0.76857305],\n",
       "       [0.0835754 , 0.9164246 ],\n",
       "       [0.88286083, 0.11713917],\n",
       "       [0.89605828, 0.10394172],\n",
       "       [0.82427333, 0.17572667],\n",
       "       [0.23210101, 0.76789899],\n",
       "       [0.76329001, 0.23670999],\n",
       "       [0.71750063, 0.28249937],\n",
       "       [0.42841927, 0.57158073],\n",
       "       [0.69228741, 0.30771259],\n",
       "       [0.95603811, 0.04396189],\n",
       "       [0.51524632, 0.48475368],\n",
       "       [0.69682117, 0.30317883],\n",
       "       [0.74666259, 0.25333741],\n",
       "       [0.02731388, 0.97268612],\n",
       "       [0.14291837, 0.85708163],\n",
       "       [0.16599833, 0.83400167],\n",
       "       [0.89663099, 0.10336901],\n",
       "       [0.99166392, 0.00833608],\n",
       "       [0.96876131, 0.03123869],\n",
       "       [0.85186947, 0.14813053],\n",
       "       [0.85505464, 0.14494536],\n",
       "       [0.93774457, 0.06225543],\n",
       "       [0.19400189, 0.80599811],\n",
       "       [0.91401268, 0.08598732],\n",
       "       [0.85801718, 0.14198282],\n",
       "       [0.91325724, 0.08674276],\n",
       "       [0.87264951, 0.12735049],\n",
       "       [0.761846  , 0.238154  ],\n",
       "       [0.16698242, 0.83301758],\n",
       "       [0.80850791, 0.19149209],\n",
       "       [0.93498759, 0.06501241],\n",
       "       [0.09830195, 0.90169805],\n",
       "       [0.79036588, 0.20963412],\n",
       "       [0.91845883, 0.08154117],\n",
       "       [0.29374341, 0.70625659],\n",
       "       [0.81143669, 0.18856331],\n",
       "       [0.23444249, 0.76555751],\n",
       "       [0.8617694 , 0.1382306 ],\n",
       "       [0.87279925, 0.12720075],\n",
       "       [0.97794834, 0.02205166],\n",
       "       [0.93123894, 0.06876106],\n",
       "       [0.04365115, 0.95634885],\n",
       "       [0.80615983, 0.19384017],\n",
       "       [0.17151748, 0.82848252],\n",
       "       [0.73078965, 0.26921035],\n",
       "       [0.03315366, 0.96684634],\n",
       "       [0.63083442, 0.36916558],\n",
       "       [0.1409626 , 0.8590374 ],\n",
       "       [0.70091217, 0.29908783],\n",
       "       [0.03111364, 0.96888636],\n",
       "       [0.72306889, 0.27693111],\n",
       "       [0.25786187, 0.74213813],\n",
       "       [0.21228985, 0.78771015],\n",
       "       [0.49937703, 0.50062297],\n",
       "       [0.62831239, 0.37168761],\n",
       "       [0.81334179, 0.18665821],\n",
       "       [0.86408581, 0.13591419],\n",
       "       [0.54943998, 0.45056002],\n",
       "       [0.6041543 , 0.3958457 ],\n",
       "       [0.38068449, 0.61931551],\n",
       "       [0.14470994, 0.85529006],\n",
       "       [0.13544188, 0.86455812],\n",
       "       [0.96538157, 0.03461843],\n",
       "       [0.6208632 , 0.3791368 ],\n",
       "       [0.1493226 , 0.8506774 ],\n",
       "       [0.59435115, 0.40564885],\n",
       "       [0.42151144, 0.57848856],\n",
       "       [0.58334609, 0.41665391],\n",
       "       [0.37508525, 0.62491475],\n",
       "       [0.74604096, 0.25395904],\n",
       "       [0.85658827, 0.14341173],\n",
       "       [0.18031584, 0.81968416],\n",
       "       [0.75443512, 0.24556488],\n",
       "       [0.94713273, 0.05286727],\n",
       "       [0.88466105, 0.11533895],\n",
       "       [0.89097197, 0.10902803],\n",
       "       [0.56151564, 0.43848436],\n",
       "       [0.20205759, 0.79794241],\n",
       "       [0.80788238, 0.19211762],\n",
       "       [0.64486291, 0.35513709],\n",
       "       [0.72500158, 0.27499842],\n",
       "       [0.63578341, 0.36421659],\n",
       "       [0.33350339, 0.66649661],\n",
       "       [0.96434081, 0.03565919],\n",
       "       [0.92330259, 0.07669741],\n",
       "       [0.81288312, 0.18711688],\n",
       "       [0.34610781, 0.65389219],\n",
       "       [0.68180645, 0.31819355],\n",
       "       [0.67938345, 0.32061655],\n",
       "       [0.56891697, 0.43108303],\n",
       "       [0.87608298, 0.12391702],\n",
       "       [0.50598053, 0.49401947],\n",
       "       [0.90366326, 0.09633674],\n",
       "       [0.62237765, 0.37762235],\n",
       "       [0.64606039, 0.35393961],\n",
       "       [0.2890803 , 0.7109197 ],\n",
       "       [0.90556427, 0.09443573],\n",
       "       [0.65741618, 0.34258382],\n",
       "       [0.84417873, 0.15582127],\n",
       "       [0.6546737 , 0.3453263 ],\n",
       "       [0.77493658, 0.22506342],\n",
       "       [0.773532  , 0.226468  ],\n",
       "       [0.96130519, 0.03869481],\n",
       "       [0.66198763, 0.33801237],\n",
       "       [0.60288697, 0.39711303],\n",
       "       [0.66656697, 0.33343303],\n",
       "       [0.95122007, 0.04877993],\n",
       "       [0.79234592, 0.20765408],\n",
       "       [0.66459941, 0.33540059],\n",
       "       [0.75041077, 0.24958923],\n",
       "       [0.82276621, 0.17723379],\n",
       "       [0.24820855, 0.75179145],\n",
       "       [0.71041209, 0.28958791],\n",
       "       [0.89905139, 0.10094861],\n",
       "       [0.32403186, 0.67596814],\n",
       "       [0.95313746, 0.04686254],\n",
       "       [0.0849353 , 0.9150647 ],\n",
       "       [0.20731778, 0.79268222],\n",
       "       [0.64475662, 0.35524338],\n",
       "       [0.53950329, 0.46049671],\n",
       "       [0.75596285, 0.24403715],\n",
       "       [0.26736051, 0.73263949],\n",
       "       [0.93769904, 0.06230096],\n",
       "       [0.9741071 , 0.0258929 ],\n",
       "       [0.55605757, 0.44394243],\n",
       "       [0.49987873, 0.50012127],\n",
       "       [0.85758426, 0.14241574],\n",
       "       [0.3866393 , 0.6133607 ],\n",
       "       [0.94861162, 0.05138838],\n",
       "       [0.2831134 , 0.7168866 ],\n",
       "       [0.40496531, 0.59503469],\n",
       "       [0.8838753 , 0.1161247 ],\n",
       "       [0.72928386, 0.27071614],\n",
       "       [0.89666231, 0.10333769],\n",
       "       [0.23211984, 0.76788016]])"
      ]
     },
     "execution_count": 20,
     "metadata": {},
     "output_type": "execute_result"
    }
   ],
   "source": [
    "pred_proba = lr.predict_proba(data_test_x)\n",
    "pred_proba"
   ]
  },
  {
   "cell_type": "code",
   "execution_count": 21,
   "id": "0e6be60a",
   "metadata": {},
   "outputs": [
    {
     "data": {
      "text/plain": [
       "array([0.28763076, 0.07166703, 0.12204066, 0.82113603, 0.60322132,\n",
       "       0.00825492, 0.13689085, 0.52686743, 0.33867998, 0.53665618,\n",
       "       0.58311198, 0.91116099, 0.14909684, 0.29101881, 0.07086117,\n",
       "       0.429319  , 0.97776823, 0.89843738, 0.76857305, 0.9164246 ,\n",
       "       0.11713917, 0.10394172, 0.17572667, 0.76789899, 0.23670999,\n",
       "       0.28249937, 0.57158073, 0.30771259, 0.04396189, 0.48475368,\n",
       "       0.30317883, 0.25333741, 0.97268612, 0.85708163, 0.83400167,\n",
       "       0.10336901, 0.00833608, 0.03123869, 0.14813053, 0.14494536,\n",
       "       0.06225543, 0.80599811, 0.08598732, 0.14198282, 0.08674276,\n",
       "       0.12735049, 0.238154  , 0.83301758, 0.19149209, 0.06501241,\n",
       "       0.90169805, 0.20963412, 0.08154117, 0.70625659, 0.18856331,\n",
       "       0.76555751, 0.1382306 , 0.12720075, 0.02205166, 0.06876106,\n",
       "       0.95634885, 0.19384017, 0.82848252, 0.26921035, 0.96684634,\n",
       "       0.36916558, 0.8590374 , 0.29908783, 0.96888636, 0.27693111,\n",
       "       0.74213813, 0.78771015, 0.50062297, 0.37168761, 0.18665821,\n",
       "       0.13591419, 0.45056002, 0.3958457 , 0.61931551, 0.85529006,\n",
       "       0.86455812, 0.03461843, 0.3791368 , 0.8506774 , 0.40564885,\n",
       "       0.57848856, 0.41665391, 0.62491475, 0.25395904, 0.14341173,\n",
       "       0.81968416, 0.24556488, 0.05286727, 0.11533895, 0.10902803,\n",
       "       0.43848436, 0.79794241, 0.19211762, 0.35513709, 0.27499842,\n",
       "       0.36421659, 0.66649661, 0.03565919, 0.07669741, 0.18711688,\n",
       "       0.65389219, 0.31819355, 0.32061655, 0.43108303, 0.12391702,\n",
       "       0.49401947, 0.09633674, 0.37762235, 0.35393961, 0.7109197 ,\n",
       "       0.09443573, 0.34258382, 0.15582127, 0.3453263 , 0.22506342,\n",
       "       0.226468  , 0.03869481, 0.33801237, 0.39711303, 0.33343303,\n",
       "       0.04877993, 0.20765408, 0.33540059, 0.24958923, 0.17723379,\n",
       "       0.75179145, 0.28958791, 0.10094861, 0.67596814, 0.04686254,\n",
       "       0.9150647 , 0.79268222, 0.35524338, 0.46049671, 0.24403715,\n",
       "       0.73263949, 0.06230096, 0.0258929 , 0.44394243, 0.50012127,\n",
       "       0.14241574, 0.6133607 , 0.05138838, 0.7168866 , 0.59503469,\n",
       "       0.1161247 , 0.27071614, 0.10333769, 0.76788016])"
      ]
     },
     "execution_count": 21,
     "metadata": {},
     "output_type": "execute_result"
    }
   ],
   "source": [
    "pred_proba[:,1]"
   ]
  },
  {
   "cell_type": "code",
   "execution_count": 22,
   "id": "58ee1553",
   "metadata": {},
   "outputs": [],
   "source": [
    "#curve\n",
    "from sklearn.metrics import roc_auc_score\n",
    "from sklearn.metrics import roc_curve"
   ]
  },
  {
   "cell_type": "code",
   "execution_count": 23,
   "id": "59cb3ec9",
   "metadata": {},
   "outputs": [
    {
     "data": {
      "text/plain": [
       "71.77283766112458"
      ]
     },
     "execution_count": 23,
     "metadata": {},
     "output_type": "execute_result"
    }
   ],
   "source": [
    "roc_auc_score(data_test_y,pred)*100"
   ]
  },
  {
   "cell_type": "code",
   "execution_count": 24,
   "id": "ec0794ec",
   "metadata": {},
   "outputs": [],
   "source": [
    "# plot graph\n",
    "fpr,tpr,ther = roc_curve(data_test_y,pred_proba[:,1])"
   ]
  },
  {
   "cell_type": "code",
   "execution_count": 25,
   "id": "8aff3c20",
   "metadata": {},
   "outputs": [],
   "source": [
    "import matplotlib.pyplot as plt"
   ]
  },
  {
   "cell_type": "code",
   "execution_count": 26,
   "id": "6e825513",
   "metadata": {},
   "outputs": [
    {
     "data": {
      "text/plain": [
       "Text(0.5, 0.5, 'auroc is 72.8301')"
      ]
     },
     "execution_count": 26,
     "metadata": {},
     "output_type": "execute_result"
    },
    {
     "data": {
      "image/png": "[encoded data removed]",
      "text/plain": [
       "<Figure size 640x480 with 1 Axes>"
      ]
     },
     "metadata": {},
     "output_type": "display_data"
    }
   ],
   "source": [
    "plt.plot(fpr,tpr,color=\"b\")\n",
    "plt.xlabel('fpr')\n",
    "plt.ylabel('tpr')\n",
    "plt.title('auroc on Outcome data')\n",
    "plt.grid()\n",
    "plt.text(x=.5,y=.5,s='auroc is 72.8301')"
   ]
  },
  {
   "cell_type": "markdown",
   "id": "8db7ca8a",
   "metadata": {},
   "source": [
    "#### The model achieves an accuracy of 82% and a precision of 80%, indicating good overall performance and reliable identification of diabetic cases. However, with a recall of 62%, there's potential to improve the model's ability to capture all instances of diabetes."
   ]
  },
  {
   "cell_type": "code",
   "execution_count": null,
   "id": "dd0fb94a",
   "metadata": {},
   "outputs": [],
   "source": []
  }
 ],
 "metadata": {
  "kernelspec": {
   "display_name": "Python 3 (ipykernel)",
   "language": "python",
   "name": "python3"
  },
  "language_info": {
   "codemirror_mode": {
    "name": "ipython",
    "version": 3
   },
   "file_extension": ".py",
   "mimetype": "text/x-python",
   "name": "python",
   "nbconvert_exporter": "python",
   "pygments_lexer": "ipython3",
   "version": "3.11.5"
  }
 },
 "nbformat": 4,
 "nbformat_minor": 5
}
