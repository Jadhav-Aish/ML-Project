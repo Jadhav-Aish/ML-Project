{
 "cells": [
  {
   "cell_type": "markdown",
   "id": "a16a7a0f",
   "metadata": {},
   "source": [
    "## 1) Problem Statement :- Predicting Diabetes using Logistic Regression"
   ]
  },
  {
   "cell_type": "markdown",
   "id": "b6fbc52c",
   "metadata": {},
   "source": [
    "### Import Libraries"
   ]
  },
  {
   "cell_type": "code",
   "execution_count": 1,
   "id": "c5dee283",
   "metadata": {},
   "outputs": [],
   "source": [
    "import numpy as np \n",
    "import pandas as pd"
   ]
  },
  {
   "cell_type": "markdown",
   "id": "411042ff",
   "metadata": {},
   "source": [
    "## 2) Loade dataset :-"
   ]
  },
  {
   "cell_type": "code",
   "execution_count": 2,
   "id": "6c86b452",
   "metadata": {},
   "outputs": [
    {
     "data": {
      "text/html": [
       "<div>\n",
       "<style scoped>\n",
       "    .dataframe tbody tr th:only-of-type {\n",
       "        vertical-align: middle;\n",
       "    }\n",
       "\n",
       "    .dataframe tbody tr th {\n",
       "        vertical-align: top;\n",
       "    }\n",
       "\n",
       "    .dataframe thead th {\n",
       "        text-align: right;\n",
       "    }\n",
       "</style>\n",
       "<table border=\"1\" class=\"dataframe\">\n",
       "  <thead>\n",
       "    <tr style=\"text-align: right;\">\n",
       "      <th></th>\n",
       "      <th>Pregnancies</th>\n",
       "      <th>Glucose</th>\n",
       "      <th>BloodPressure</th>\n",
       "      <th>SkinThickness</th>\n",
       "      <th>Insulin</th>\n",
       "      <th>BMI</th>\n",
       "      <th>DiabetesPedigreeFunction</th>\n",
       "      <th>Age</th>\n",
       "      <th>Outcome</th>\n",
       "    </tr>\n",
       "  </thead>\n",
       "  <tbody>\n",
       "    <tr>\n",
       "      <th>0</th>\n",
       "      <td>6</td>\n",
       "      <td>148</td>\n",
       "      <td>72</td>\n",
       "      <td>35</td>\n",
       "      <td>0</td>\n",
       "      <td>33.6</td>\n",
       "      <td>0.627</td>\n",
       "      <td>50</td>\n",
       "      <td>1</td>\n",
       "    </tr>\n",
       "    <tr>\n",
       "      <th>1</th>\n",
       "      <td>1</td>\n",
       "      <td>85</td>\n",
       "      <td>66</td>\n",
       "      <td>29</td>\n",
       "      <td>0</td>\n",
       "      <td>26.6</td>\n",
       "      <td>0.351</td>\n",
       "      <td>31</td>\n",
       "      <td>0</td>\n",
       "    </tr>\n",
       "    <tr>\n",
       "      <th>2</th>\n",
       "      <td>8</td>\n",
       "      <td>183</td>\n",
       "      <td>64</td>\n",
       "      <td>0</td>\n",
       "      <td>0</td>\n",
       "      <td>23.3</td>\n",
       "      <td>0.672</td>\n",
       "      <td>32</td>\n",
       "      <td>1</td>\n",
       "    </tr>\n",
       "    <tr>\n",
       "      <th>3</th>\n",
       "      <td>1</td>\n",
       "      <td>89</td>\n",
       "      <td>66</td>\n",
       "      <td>23</td>\n",
       "      <td>94</td>\n",
       "      <td>28.1</td>\n",
       "      <td>0.167</td>\n",
       "      <td>21</td>\n",
       "      <td>0</td>\n",
       "    </tr>\n",
       "    <tr>\n",
       "      <th>4</th>\n",
       "      <td>0</td>\n",
       "      <td>137</td>\n",
       "      <td>40</td>\n",
       "      <td>35</td>\n",
       "      <td>168</td>\n",
       "      <td>43.1</td>\n",
       "      <td>2.288</td>\n",
       "      <td>33</td>\n",
       "      <td>1</td>\n",
       "    </tr>\n",
       "    <tr>\n",
       "      <th>...</th>\n",
       "      <td>...</td>\n",
       "      <td>...</td>\n",
       "      <td>...</td>\n",
       "      <td>...</td>\n",
       "      <td>...</td>\n",
       "      <td>...</td>\n",
       "      <td>...</td>\n",
       "      <td>...</td>\n",
       "      <td>...</td>\n",
       "    </tr>\n",
       "    <tr>\n",
       "      <th>763</th>\n",
       "      <td>10</td>\n",
       "      <td>101</td>\n",
       "      <td>76</td>\n",
       "      <td>48</td>\n",
       "      <td>180</td>\n",
       "      <td>32.9</td>\n",
       "      <td>0.171</td>\n",
       "      <td>63</td>\n",
       "      <td>0</td>\n",
       "    </tr>\n",
       "    <tr>\n",
       "      <th>764</th>\n",
       "      <td>2</td>\n",
       "      <td>122</td>\n",
       "      <td>70</td>\n",
       "      <td>27</td>\n",
       "      <td>0</td>\n",
       "      <td>36.8</td>\n",
       "      <td>0.340</td>\n",
       "      <td>27</td>\n",
       "      <td>0</td>\n",
       "    </tr>\n",
       "    <tr>\n",
       "      <th>765</th>\n",
       "      <td>5</td>\n",
       "      <td>121</td>\n",
       "      <td>72</td>\n",
       "      <td>23</td>\n",
       "      <td>112</td>\n",
       "      <td>26.2</td>\n",
       "      <td>0.245</td>\n",
       "      <td>30</td>\n",
       "      <td>0</td>\n",
       "    </tr>\n",
       "    <tr>\n",
       "      <th>766</th>\n",
       "      <td>1</td>\n",
       "      <td>126</td>\n",
       "      <td>60</td>\n",
       "      <td>0</td>\n",
       "      <td>0</td>\n",
       "      <td>30.1</td>\n",
       "      <td>0.349</td>\n",
       "      <td>47</td>\n",
       "      <td>1</td>\n",
       "    </tr>\n",
       "    <tr>\n",
       "      <th>767</th>\n",
       "      <td>1</td>\n",
       "      <td>93</td>\n",
       "      <td>70</td>\n",
       "      <td>31</td>\n",
       "      <td>0</td>\n",
       "      <td>30.4</td>\n",
       "      <td>0.315</td>\n",
       "      <td>23</td>\n",
       "      <td>0</td>\n",
       "    </tr>\n",
       "  </tbody>\n",
       "</table>\n",
       "<p>768 rows × 9 columns</p>\n",
       "</div>"
      ],
      "text/plain": [
       "     Pregnancies  Glucose  BloodPressure  SkinThickness  Insulin   BMI  \\\n",
       "0              6      148             72             35        0  33.6   \n",
       "1              1       85             66             29        0  26.6   \n",
       "2              8      183             64              0        0  23.3   \n",
       "3              1       89             66             23       94  28.1   \n",
       "4              0      137             40             35      168  43.1   \n",
       "..           ...      ...            ...            ...      ...   ...   \n",
       "763           10      101             76             48      180  32.9   \n",
       "764            2      122             70             27        0  36.8   \n",
       "765            5      121             72             23      112  26.2   \n",
       "766            1      126             60              0        0  30.1   \n",
       "767            1       93             70             31        0  30.4   \n",
       "\n",
       "     DiabetesPedigreeFunction  Age  Outcome  \n",
       "0                       0.627   50        1  \n",
       "1                       0.351   31        0  \n",
       "2                       0.672   32        1  \n",
       "3                       0.167   21        0  \n",
       "4                       2.288   33        1  \n",
       "..                        ...  ...      ...  \n",
       "763                     0.171   63        0  \n",
       "764                     0.340   27        0  \n",
       "765                     0.245   30        0  \n",
       "766                     0.349   47        1  \n",
       "767                     0.315   23        0  \n",
       "\n",
       "[768 rows x 9 columns]"
      ]
     },
     "execution_count": 2,
     "metadata": {},
     "output_type": "execute_result"
    }
   ],
   "source": [
    "data=pd.read_csv(r\"C:\\Users\\jadha\\Downloads\\diabetes.csv\")\n",
    "data"
   ]
  },
  {
   "cell_type": "markdown",
   "id": "b4af0dd5",
   "metadata": {},
   "source": [
    "## 3) Data Preprocessing :-"
   ]
  },
  {
   "cell_type": "code",
   "execution_count": 3,
   "id": "b98212d7",
   "metadata": {},
   "outputs": [
    {
     "data": {
      "text/plain": [
       "(768, 9)"
      ]
     },
     "execution_count": 3,
     "metadata": {},
     "output_type": "execute_result"
    }
   ],
   "source": [
    "data.shape"
   ]
  },
  {
   "cell_type": "markdown",
   "id": "be1ba744",
   "metadata": {},
   "source": [
    " The 'diabetes' dataset contains 768 rows and 9 columns."
   ]
  },
  {
   "cell_type": "markdown",
   "id": "6548f7af",
   "metadata": {},
   "source": [
    "1. Pregnancies: Number of times pregnant\n",
    "2. Glucose: Plasma glucose concentration a 2 hours in an oral glucose tolerance test\n",
    "3. BloodPressure: Diastolic blood pressure (mm Hg)\n",
    "4. SkinThickness: Triceps skin fold thickness (mm)\n",
    "5. Insulin: 2-Hour serum insulin (mu U/ml)\n",
    "6. BMI: Body mass index (weight in kg/(height in m)^2)\n",
    "7. DiabetesPedigreeFunction: Diabetes pedigree function\n",
    "8. Age: Age (years)\n",
    "9. Outcome: Class variable (0 or 1)"
   ]
  },
  {
   "cell_type": "code",
   "execution_count": 4,
   "id": "953dabf5",
   "metadata": {},
   "outputs": [
    {
     "name": "stdout",
     "output_type": "stream",
     "text": [
      "<class 'pandas.core.frame.DataFrame'>\n",
      "RangeIndex: 768 entries, 0 to 767\n",
      "Data columns (total 9 columns):\n",
      " #   Column                    Non-Null Count  Dtype  \n",
      "---  ------                    --------------  -----  \n",
      " 0   Pregnancies               768 non-null    int64  \n",
      " 1   Glucose                   768 non-null    int64  \n",
      " 2   BloodPressure             768 non-null    int64  \n",
      " 3   SkinThickness             768 non-null    int64  \n",
      " 4   Insulin                   768 non-null    int64  \n",
      " 5   BMI                       768 non-null    float64\n",
      " 6   DiabetesPedigreeFunction  768 non-null    float64\n",
      " 7   Age                       768 non-null    int64  \n",
      " 8   Outcome                   768 non-null    int64  \n",
      "dtypes: float64(2), int64(7)\n",
      "memory usage: 54.1 KB\n"
     ]
    }
   ],
   "source": [
    "data.info()"
   ]
  },
  {
   "cell_type": "code",
   "execution_count": 5,
   "id": "55a7d461",
   "metadata": {},
   "outputs": [
    {
     "data": {
      "text/plain": [
       "Pregnancies                 0\n",
       "Glucose                     0\n",
       "BloodPressure               0\n",
       "SkinThickness               0\n",
       "Insulin                     0\n",
       "BMI                         0\n",
       "DiabetesPedigreeFunction    0\n",
       "Age                         0\n",
       "Outcome                     0\n",
       "dtype: int64"
      ]
     },
     "execution_count": 5,
     "metadata": {},
     "output_type": "execute_result"
    }
   ],
   "source": [
    "data.isnull().sum()"
   ]
  },
  {
   "cell_type": "markdown",
   "id": "00d85580",
   "metadata": {},
   "source": [
    "For our logistic regression Model, we're using the following columns:\n",
    " - Features: Pregnancies, Glucose, BloodPressure, SkinThickness, Insulin, BMI, DiabetesPedigreeFunction, Age\n",
    " - Target variable: Outcome (Oure target variable is 0 & 1)\n"
   ]
  },
  {
   "cell_type": "markdown",
   "id": "56c75bd0",
   "metadata": {},
   "source": [
    "## 4) Sampling :- Divide data into Train & Test"
   ]
  },
  {
   "cell_type": "code",
   "execution_count": 6,
   "id": "a25a5518",
   "metadata": {},
   "outputs": [],
   "source": [
    "from sklearn.model_selection import train_test_split"
   ]
  },
  {
   "cell_type": "code",
   "execution_count": 7,
   "id": "6c253b0b",
   "metadata": {},
   "outputs": [],
   "source": [
    "data_train,data_test = train_test_split(data,test_size=.2)"
   ]
  },
  {
   "cell_type": "markdown",
   "id": "052a0ef4",
   "metadata": {},
   "source": [
    "#### Define the data into x & y "
   ]
  },
  {
   "cell_type": "code",
   "execution_count": 8,
   "id": "a87b8831",
   "metadata": {},
   "outputs": [],
   "source": [
    "data_train_x = data_train.iloc[:,0:-1]\n",
    "data_train_y = data_train.iloc[:,-1]"
   ]
  },
  {
   "cell_type": "code",
   "execution_count": 9,
   "id": "0ae149a0",
   "metadata": {},
   "outputs": [],
   "source": [
    "data_test_x = data_test.iloc[:,0:-1]\n",
    "data_test_y = data_test.iloc[:,-1]"
   ]
  },
  {
   "cell_type": "markdown",
   "id": "eae5aba8",
   "metadata": {},
   "source": [
    "## 5) Model Building:-"
   ]
  },
  {
   "cell_type": "code",
   "execution_count": 10,
   "id": "b3999b71",
   "metadata": {},
   "outputs": [],
   "source": [
    "from sklearn.linear_model import LogisticRegression"
   ]
  },
  {
   "cell_type": "code",
   "execution_count": 11,
   "id": "c177958d",
   "metadata": {},
   "outputs": [],
   "source": [
    "lr=LogisticRegression()"
   ]
  },
  {
   "cell_type": "code",
   "execution_count": 12,
   "id": "9627fa72",
   "metadata": {},
   "outputs": [
    {
     "name": "stderr",
     "output_type": "stream",
     "text": [
      "C:\\Users\\jadha\\anaconda3\\Lib\\site-packages\\sklearn\\linear_model\\_logistic.py:460: ConvergenceWarning: lbfgs failed to converge (status=1):\n",
      "STOP: TOTAL NO. of ITERATIONS REACHED LIMIT.\n",
      "\n",
      "Increase the number of iterations (max_iter) or scale the data as shown in:\n",
      "    https://scikit-learn.org/stable/modules/preprocessing.html\n",
      "Please also refer to the documentation for alternative solver options:\n",
      "    https://scikit-learn.org/stable/modules/linear_model.html#logistic-regression\n",
      "  n_iter_i = _check_optimize_result(\n"
     ]
    },
    {
     "data": {
      "text/html": [
       "<style>#sk-container-id-1 {color: black;}#sk-container-id-1 pre{padding: 0;}#sk-container-id-1 div.sk-toggleable {background-color: white;}#sk-container-id-1 label.sk-toggleable__label {cursor: pointer;display: block;width: 100%;margin-bottom: 0;padding: 0.3em;box-sizing: border-box;text-align: center;}#sk-container-id-1 label.sk-toggleable__label-arrow:before {content: \"▸\";float: left;margin-right: 0.25em;color: #696969;}#sk-container-id-1 label.sk-toggleable__label-arrow:hover:before {color: black;}#sk-container-id-1 div.sk-estimator:hover label.sk-toggleable__label-arrow:before {color: black;}#sk-container-id-1 div.sk-toggleable__content {max-height: 0;max-width: 0;overflow: hidden;text-align: left;background-color: #f0f8ff;}#sk-container-id-1 div.sk-toggleable__content pre {margin: 0.2em;color: black;border-radius: 0.25em;background-color: #f0f8ff;}#sk-container-id-1 input.sk-toggleable__control:checked~div.sk-toggleable__content {max-height: 200px;max-width: 100%;overflow: auto;}#sk-container-id-1 input.sk-toggleable__control:checked~label.sk-toggleable__label-arrow:before {content: \"▾\";}#sk-container-id-1 div.sk-estimator input.sk-toggleable__control:checked~label.sk-toggleable__label {background-color: #d4ebff;}#sk-container-id-1 div.sk-label input.sk-toggleable__control:checked~label.sk-toggleable__label {background-color: #d4ebff;}#sk-container-id-1 input.sk-hidden--visually {border: 0;clip: rect(1px 1px 1px 1px);clip: rect(1px, 1px, 1px, 1px);height: 1px;margin: -1px;overflow: hidden;padding: 0;position: absolute;width: 1px;}#sk-container-id-1 div.sk-estimator {font-family: monospace;background-color: #f0f8ff;border: 1px dotted black;border-radius: 0.25em;box-sizing: border-box;margin-bottom: 0.5em;}#sk-container-id-1 div.sk-estimator:hover {background-color: #d4ebff;}#sk-container-id-1 div.sk-parallel-item::after {content: \"\";width: 100%;border-bottom: 1px solid gray;flex-grow: 1;}#sk-container-id-1 div.sk-label:hover label.sk-toggleable__label {background-color: #d4ebff;}#sk-container-id-1 div.sk-serial::before {content: \"\";position: absolute;border-left: 1px solid gray;box-sizing: border-box;top: 0;bottom: 0;left: 50%;z-index: 0;}#sk-container-id-1 div.sk-serial {display: flex;flex-direction: column;align-items: center;background-color: white;padding-right: 0.2em;padding-left: 0.2em;position: relative;}#sk-container-id-1 div.sk-item {position: relative;z-index: 1;}#sk-container-id-1 div.sk-parallel {display: flex;align-items: stretch;justify-content: center;background-color: white;position: relative;}#sk-container-id-1 div.sk-item::before, #sk-container-id-1 div.sk-parallel-item::before {content: \"\";position: absolute;border-left: 1px solid gray;box-sizing: border-box;top: 0;bottom: 0;left: 50%;z-index: -1;}#sk-container-id-1 div.sk-parallel-item {display: flex;flex-direction: column;z-index: 1;position: relative;background-color: white;}#sk-container-id-1 div.sk-parallel-item:first-child::after {align-self: flex-end;width: 50%;}#sk-container-id-1 div.sk-parallel-item:last-child::after {align-self: flex-start;width: 50%;}#sk-container-id-1 div.sk-parallel-item:only-child::after {width: 0;}#sk-container-id-1 div.sk-dashed-wrapped {border: 1px dashed gray;margin: 0 0.4em 0.5em 0.4em;box-sizing: border-box;padding-bottom: 0.4em;background-color: white;}#sk-container-id-1 div.sk-label label {font-family: monospace;font-weight: bold;display: inline-block;line-height: 1.2em;}#sk-container-id-1 div.sk-label-container {text-align: center;}#sk-container-id-1 div.sk-container {/* jupyter's `normalize.less` sets `[hidden] { display: none; }` but bootstrap.min.css set `[hidden] { display: none !important; }` so we also need the `!important` here to be able to override the default hidden behavior on the sphinx rendered scikit-learn.org. See: https://github.com/scikit-learn/scikit-learn/issues/21755 */display: inline-block !important;position: relative;}#sk-container-id-1 div.sk-text-repr-fallback {display: none;}</style><div id=\"sk-container-id-1\" class=\"sk-top-container\"><div class=\"sk-text-repr-fallback\"><pre>LogisticRegression()</pre><b>In a Jupyter environment, please rerun this cell to show the HTML representation or trust the notebook. <br />On GitHub, the HTML representation is unable to render, please try loading this page with nbviewer.org.</b></div><div class=\"sk-container\" hidden><div class=\"sk-item\"><div class=\"sk-estimator sk-toggleable\"><input class=\"sk-toggleable__control sk-hidden--visually\" id=\"sk-estimator-id-1\" type=\"checkbox\" checked><label for=\"sk-estimator-id-1\" class=\"sk-toggleable__label sk-toggleable__label-arrow\">LogisticRegression</label><div class=\"sk-toggleable__content\"><pre>LogisticRegression()</pre></div></div></div></div></div>"
      ],
      "text/plain": [
       "LogisticRegression()"
      ]
     },
     "execution_count": 12,
     "metadata": {},
     "output_type": "execute_result"
    }
   ],
   "source": [
    "lr.fit(data_train_x,data_train_y)"
   ]
  },
  {
   "cell_type": "markdown",
   "id": "74a1e26f",
   "metadata": {},
   "source": [
    "#### Prediction"
   ]
  },
  {
   "cell_type": "code",
   "execution_count": 13,
   "id": "b6170a5e",
   "metadata": {},
   "outputs": [
    {
     "data": {
      "text/plain": [
       "array([0, 0, 0, 1, 0, 0, 0, 0, 1, 0, 0, 1, 0, 1, 1, 0, 0, 0, 1, 0, 0, 0,\n",
       "       0, 0, 0, 0, 0, 0, 0, 0, 1, 1, 0, 0, 0, 0, 0, 0, 1, 0, 0, 0, 0, 1,\n",
       "       0, 0, 0, 0, 0, 0, 0, 0, 0, 1, 0, 1, 0, 0, 1, 0, 0, 0, 0, 1, 1, 1,\n",
       "       0, 1, 0, 0, 0, 0, 1, 1, 0, 0, 1, 0, 0, 1, 0, 0, 1, 0, 1, 1, 0, 1,\n",
       "       0, 1, 0, 0, 0, 1, 0, 1, 0, 0, 0, 0, 0, 0, 0, 0, 1, 0, 0, 0, 0, 0,\n",
       "       1, 0, 0, 1, 0, 0, 0, 0, 0, 0, 0, 0, 1, 0, 1, 0, 0, 1, 0, 0, 0, 1,\n",
       "       0, 1, 0, 0, 1, 0, 1, 0, 0, 1, 0, 0, 1, 0, 0, 0, 0, 0, 0, 1, 0, 1],\n",
       "      dtype=int64)"
      ]
     },
     "execution_count": 13,
     "metadata": {},
     "output_type": "execute_result"
    }
   ],
   "source": [
    "pred = lr.predict(data_test_x)\n",
    "pred"
   ]
  },
  {
   "cell_type": "code",
   "execution_count": 14,
   "id": "62515e62",
   "metadata": {},
   "outputs": [],
   "source": [
    "from sklearn.metrics import confusion_matrix"
   ]
  },
  {
   "cell_type": "code",
   "execution_count": 15,
   "id": "0b468b21",
   "metadata": {},
   "outputs": [
    {
     "data": {
      "text/plain": [
       "array([[86,  9],\n",
       "       [26, 33]], dtype=int64)"
      ]
     },
     "execution_count": 15,
     "metadata": {},
     "output_type": "execute_result"
    }
   ],
   "source": [
    "cm = confusion_matrix(data_test_y,pred)\n",
    "cm"
   ]
  },
  {
   "cell_type": "markdown",
   "id": "82950aca",
   "metadata": {},
   "source": [
    "## Model Evaluation :-\n",
    "\n",
    "### Evaluation parameters in Linear Regression model are :-\n",
    " a) Accuracy.\n",
    " b) Tpr/Recall.\n",
    " c) Precission.\n",
    " d) F1 Ratio.\n",
    " e) Auroc Curve."
   ]
  },
  {
   "cell_type": "code",
   "execution_count": 16,
   "id": "b09b14b9",
   "metadata": {},
   "outputs": [
    {
     "data": {
      "text/plain": [
       "77.27272727272727"
      ]
     },
     "execution_count": 16,
     "metadata": {},
     "output_type": "execute_result"
    }
   ],
   "source": [
    "# accuracy\n",
    "from sklearn.metrics import accuracy_score\n",
    "accuracy_score(data_test_y,pred)*100"
   ]
  },
  {
   "cell_type": "code",
   "execution_count": 17,
   "id": "0267994e",
   "metadata": {},
   "outputs": [
    {
     "data": {
      "text/plain": [
       "55.932203389830505"
      ]
     },
     "execution_count": 17,
     "metadata": {},
     "output_type": "execute_result"
    }
   ],
   "source": [
    "# tpr/Recall\n",
    "from sklearn.metrics import recall_score\n",
    "recall_score(data_test_y,pred)*100"
   ]
  },
  {
   "cell_type": "code",
   "execution_count": 18,
   "id": "5b4fe322",
   "metadata": {},
   "outputs": [
    {
     "data": {
      "text/plain": [
       "78.57142857142857"
      ]
     },
     "execution_count": 18,
     "metadata": {},
     "output_type": "execute_result"
    }
   ],
   "source": [
    "# precission\n",
    "from sklearn.metrics import precision_score\n",
    "precision_score(data_test_y,pred)*100\n"
   ]
  },
  {
   "cell_type": "code",
   "execution_count": 19,
   "id": "eb964973",
   "metadata": {},
   "outputs": [
    {
     "data": {
      "text/plain": [
       "65.34653465346535"
      ]
     },
     "execution_count": 19,
     "metadata": {},
     "output_type": "execute_result"
    }
   ],
   "source": [
    "# f1 ratio\n",
    "from sklearn.metrics import f1_score\n",
    "f1_score(data_test_y,pred)*100"
   ]
  },
  {
   "cell_type": "markdown",
   "id": "d6846065",
   "metadata": {},
   "source": [
    "#### Conclusion:-\n",
    "According the evaluating parameters we get to know that our model is good. Higher the Accuracy better the model. Higher the precission better the model."
   ]
  },
  {
   "cell_type": "code",
   "execution_count": 20,
   "id": "df925ae8",
   "metadata": {},
   "outputs": [
    {
     "data": {
      "text/plain": [
       "array([[0.5735708 , 0.4264292 ],\n",
       "       [0.83375034, 0.16624966],\n",
       "       [0.85385006, 0.14614994],\n",
       "       [0.32636072, 0.67363928],\n",
       "       [0.57520241, 0.42479759],\n",
       "       [0.89003888, 0.10996112],\n",
       "       [0.57200037, 0.42799963],\n",
       "       [0.89727746, 0.10272254],\n",
       "       [0.29935023, 0.70064977],\n",
       "       [0.5675829 , 0.4324171 ],\n",
       "       [0.72479411, 0.27520589],\n",
       "       [0.28940854, 0.71059146],\n",
       "       [0.91884988, 0.08115012],\n",
       "       [0.35825964, 0.64174036],\n",
       "       [0.24176369, 0.75823631],\n",
       "       [0.76307491, 0.23692509],\n",
       "       [0.77279478, 0.22720522],\n",
       "       [0.84662856, 0.15337144],\n",
       "       [0.25806538, 0.74193462],\n",
       "       [0.84223348, 0.15776652],\n",
       "       [0.71992663, 0.28007337],\n",
       "       [0.61072208, 0.38927792],\n",
       "       [0.69693922, 0.30306078],\n",
       "       [0.96087215, 0.03912785],\n",
       "       [0.52830889, 0.47169111],\n",
       "       [0.86823294, 0.13176706],\n",
       "       [0.92039428, 0.07960572],\n",
       "       [0.64672555, 0.35327445],\n",
       "       [0.96623619, 0.03376381],\n",
       "       [0.95660763, 0.04339237],\n",
       "       [0.41116714, 0.58883286],\n",
       "       [0.18902724, 0.81097276],\n",
       "       [0.73640263, 0.26359737],\n",
       "       [0.91532082, 0.08467918],\n",
       "       [0.73520584, 0.26479416],\n",
       "       [0.92270241, 0.07729759],\n",
       "       [0.92562036, 0.07437964],\n",
       "       [0.91267216, 0.08732784],\n",
       "       [0.27443961, 0.72556039],\n",
       "       [0.8419045 , 0.1580955 ],\n",
       "       [0.92989947, 0.07010053],\n",
       "       [0.93206518, 0.06793482],\n",
       "       [0.6751077 , 0.3248923 ],\n",
       "       [0.16640635, 0.83359365],\n",
       "       [0.90674947, 0.09325053],\n",
       "       [0.90799585, 0.09200415],\n",
       "       [0.66827147, 0.33172853],\n",
       "       [0.94346597, 0.05653403],\n",
       "       [0.90823272, 0.09176728],\n",
       "       [0.7758479 , 0.2241521 ],\n",
       "       [0.91979966, 0.08020034],\n",
       "       [0.83512235, 0.16487765],\n",
       "       [0.77501908, 0.22498092],\n",
       "       [0.13601038, 0.86398962],\n",
       "       [0.69266164, 0.30733836],\n",
       "       [0.18907613, 0.81092387],\n",
       "       [0.69041994, 0.30958006],\n",
       "       [0.59265815, 0.40734185],\n",
       "       [0.48804133, 0.51195867],\n",
       "       [0.86402006, 0.13597994],\n",
       "       [0.69566406, 0.30433594],\n",
       "       [0.90301004, 0.09698996],\n",
       "       [0.74182114, 0.25817886],\n",
       "       [0.43513723, 0.56486277],\n",
       "       [0.29721813, 0.70278187],\n",
       "       [0.34297842, 0.65702158],\n",
       "       [0.55629025, 0.44370975],\n",
       "       [0.14214333, 0.85785667],\n",
       "       [0.72446701, 0.27553299],\n",
       "       [0.64052496, 0.35947504],\n",
       "       [0.97115652, 0.02884348],\n",
       "       [0.95519521, 0.04480479],\n",
       "       [0.37523424, 0.62476576],\n",
       "       [0.24150298, 0.75849702],\n",
       "       [0.95673794, 0.04326206],\n",
       "       [0.91328125, 0.08671875],\n",
       "       [0.11909196, 0.88090804],\n",
       "       [0.91049662, 0.08950338],\n",
       "       [0.79839331, 0.20160669],\n",
       "       [0.06729482, 0.93270518],\n",
       "       [0.63098284, 0.36901716],\n",
       "       [0.97053502, 0.02946498],\n",
       "       [0.2285943 , 0.7714057 ],\n",
       "       [0.93885985, 0.06114015],\n",
       "       [0.12349495, 0.87650505],\n",
       "       [0.23649657, 0.76350343],\n",
       "       [0.72476216, 0.27523784],\n",
       "       [0.12615842, 0.87384158],\n",
       "       [0.80598604, 0.19401396],\n",
       "       [0.47427606, 0.52572394],\n",
       "       [0.65278404, 0.34721596],\n",
       "       [0.62242065, 0.37757935],\n",
       "       [0.56986058, 0.43013942],\n",
       "       [0.07601778, 0.92398222],\n",
       "       [0.98004387, 0.01995613],\n",
       "       [0.20149807, 0.79850193],\n",
       "       [0.9208413 , 0.0791587 ],\n",
       "       [0.82497223, 0.17502777],\n",
       "       [0.90310835, 0.09689165],\n",
       "       [0.59439735, 0.40560265],\n",
       "       [0.73149998, 0.26850002],\n",
       "       [0.64706455, 0.35293545],\n",
       "       [0.91241067, 0.08758933],\n",
       "       [0.92719037, 0.07280963],\n",
       "       [0.47200948, 0.52799052],\n",
       "       [0.81094693, 0.18905307],\n",
       "       [0.95963678, 0.04036322],\n",
       "       [0.94088277, 0.05911723],\n",
       "       [0.95296649, 0.04703351],\n",
       "       [0.95542718, 0.04457282],\n",
       "       [0.41669835, 0.58330165],\n",
       "       [0.96550732, 0.03449268],\n",
       "       [0.85117605, 0.14882395],\n",
       "       [0.15793428, 0.84206572],\n",
       "       [0.83648835, 0.16351165],\n",
       "       [0.91256249, 0.08743751],\n",
       "       [0.80105661, 0.19894339],\n",
       "       [0.66510436, 0.33489564],\n",
       "       [0.7954247 , 0.2045753 ],\n",
       "       [0.68390392, 0.31609608],\n",
       "       [0.94019011, 0.05980989],\n",
       "       [0.59917887, 0.40082113],\n",
       "       [0.27998025, 0.72001975],\n",
       "       [0.79116036, 0.20883964],\n",
       "       [0.15764053, 0.84235947],\n",
       "       [0.98824409, 0.01175591],\n",
       "       [0.94088522, 0.05911478],\n",
       "       [0.18290118, 0.81709882],\n",
       "       [0.75762221, 0.24237779],\n",
       "       [0.6992077 , 0.3007923 ],\n",
       "       [0.89021843, 0.10978157],\n",
       "       [0.21342939, 0.78657061],\n",
       "       [0.77436638, 0.22563362],\n",
       "       [0.06123729, 0.93876271],\n",
       "       [0.53453951, 0.46546049],\n",
       "       [0.93536555, 0.06463445],\n",
       "       [0.37827881, 0.62172119],\n",
       "       [0.66257041, 0.33742959],\n",
       "       [0.03416663, 0.96583337],\n",
       "       [0.68778294, 0.31221706],\n",
       "       [0.71795194, 0.28204806],\n",
       "       [0.17568433, 0.82431567],\n",
       "       [0.82275075, 0.17724925],\n",
       "       [0.65663527, 0.34336473],\n",
       "       [0.22597655, 0.77402345],\n",
       "       [0.9821838 , 0.0178162 ],\n",
       "       [0.88734934, 0.11265066],\n",
       "       [0.86804259, 0.13195741],\n",
       "       [0.57876497, 0.42123503],\n",
       "       [0.55662094, 0.44337906],\n",
       "       [0.81727085, 0.18272915],\n",
       "       [0.24161604, 0.75838396],\n",
       "       [0.89556293, 0.10443707],\n",
       "       [0.31618436, 0.68381564]])"
      ]
     },
     "execution_count": 20,
     "metadata": {},
     "output_type": "execute_result"
    }
   ],
   "source": [
    "pred_proba = lr.predict_proba(data_test_x)\n",
    "pred_proba"
   ]
  },
  {
   "cell_type": "code",
   "execution_count": 21,
   "id": "0e6be60a",
   "metadata": {},
   "outputs": [
    {
     "data": {
      "text/plain": [
       "array([0.4264292 , 0.16624966, 0.14614994, 0.67363928, 0.42479759,\n",
       "       0.10996112, 0.42799963, 0.10272254, 0.70064977, 0.4324171 ,\n",
       "       0.27520589, 0.71059146, 0.08115012, 0.64174036, 0.75823631,\n",
       "       0.23692509, 0.22720522, 0.15337144, 0.74193462, 0.15776652,\n",
       "       0.28007337, 0.38927792, 0.30306078, 0.03912785, 0.47169111,\n",
       "       0.13176706, 0.07960572, 0.35327445, 0.03376381, 0.04339237,\n",
       "       0.58883286, 0.81097276, 0.26359737, 0.08467918, 0.26479416,\n",
       "       0.07729759, 0.07437964, 0.08732784, 0.72556039, 0.1580955 ,\n",
       "       0.07010053, 0.06793482, 0.3248923 , 0.83359365, 0.09325053,\n",
       "       0.09200415, 0.33172853, 0.05653403, 0.09176728, 0.2241521 ,\n",
       "       0.08020034, 0.16487765, 0.22498092, 0.86398962, 0.30733836,\n",
       "       0.81092387, 0.30958006, 0.40734185, 0.51195867, 0.13597994,\n",
       "       0.30433594, 0.09698996, 0.25817886, 0.56486277, 0.70278187,\n",
       "       0.65702158, 0.44370975, 0.85785667, 0.27553299, 0.35947504,\n",
       "       0.02884348, 0.04480479, 0.62476576, 0.75849702, 0.04326206,\n",
       "       0.08671875, 0.88090804, 0.08950338, 0.20160669, 0.93270518,\n",
       "       0.36901716, 0.02946498, 0.7714057 , 0.06114015, 0.87650505,\n",
       "       0.76350343, 0.27523784, 0.87384158, 0.19401396, 0.52572394,\n",
       "       0.34721596, 0.37757935, 0.43013942, 0.92398222, 0.01995613,\n",
       "       0.79850193, 0.0791587 , 0.17502777, 0.09689165, 0.40560265,\n",
       "       0.26850002, 0.35293545, 0.08758933, 0.07280963, 0.52799052,\n",
       "       0.18905307, 0.04036322, 0.05911723, 0.04703351, 0.04457282,\n",
       "       0.58330165, 0.03449268, 0.14882395, 0.84206572, 0.16351165,\n",
       "       0.08743751, 0.19894339, 0.33489564, 0.2045753 , 0.31609608,\n",
       "       0.05980989, 0.40082113, 0.72001975, 0.20883964, 0.84235947,\n",
       "       0.01175591, 0.05911478, 0.81709882, 0.24237779, 0.3007923 ,\n",
       "       0.10978157, 0.78657061, 0.22563362, 0.93876271, 0.46546049,\n",
       "       0.06463445, 0.62172119, 0.33742959, 0.96583337, 0.31221706,\n",
       "       0.28204806, 0.82431567, 0.17724925, 0.34336473, 0.77402345,\n",
       "       0.0178162 , 0.11265066, 0.13195741, 0.42123503, 0.44337906,\n",
       "       0.18272915, 0.75838396, 0.10443707, 0.68381564])"
      ]
     },
     "execution_count": 21,
     "metadata": {},
     "output_type": "execute_result"
    }
   ],
   "source": [
    "pred_proba[:,1]"
   ]
  },
  {
   "cell_type": "code",
   "execution_count": 22,
   "id": "58ee1553",
   "metadata": {},
   "outputs": [],
   "source": [
    "#curve\n",
    "from sklearn.metrics import roc_auc_score\n",
    "from sklearn.metrics import roc_curve"
   ]
  },
  {
   "cell_type": "code",
   "execution_count": 23,
   "id": "59cb3ec9",
   "metadata": {},
   "outputs": [
    {
     "data": {
      "text/plain": [
       "73.22925958965209"
      ]
     },
     "execution_count": 23,
     "metadata": {},
     "output_type": "execute_result"
    }
   ],
   "source": [
    "roc_auc_score(data_test_y,pred)*100"
   ]
  },
  {
   "cell_type": "code",
   "execution_count": 24,
   "id": "ec0794ec",
   "metadata": {},
   "outputs": [],
   "source": [
    "# plot graph\n",
    "fpr,tpr,ther = roc_curve(data_test_y,pred_proba[:,1])"
   ]
  },
  {
   "cell_type": "code",
   "execution_count": 25,
   "id": "8aff3c20",
   "metadata": {},
   "outputs": [],
   "source": [
    "import matplotlib.pyplot as plt"
   ]
  },
  {
   "cell_type": "code",
   "execution_count": 26,
   "id": "6e825513",
   "metadata": {},
   "outputs": [
    {
     "data": {
      "text/plain": [
       "Text(0.5, 0.5, 'auroc is 72.8301')"
      ]
     },
     "execution_count": 26,
     "metadata": {},
     "output_type": "execute_result"
    },
    {
     "data": {
      "image/png": "[encoded data removed]",
      "text/plain": [
       "<Figure size 640x480 with 1 Axes>"
      ]
     },
     "metadata": {},
     "output_type": "display_data"
    }
   ],
   "source": [
    "plt.plot(fpr,tpr,color=\"b\")\n",
    "plt.xlabel('fpr')\n",
    "plt.ylabel('tpr')\n",
    "plt.title('auroc on Outcome data')\n",
    "plt.grid()\n",
    "plt.text(x=.5,y=.5,s='auroc is 72.8301')"
   ]
  },
  {
   "cell_type": "markdown",
   "id": "cdcc8b91",
   "metadata": {},
   "source": [
    "#### The model achieves an accuracy of 82% and a precision of 80%, indicating good overall performance and reliable identification of diabetic cases. However, with a recall of 62%, there's potential to improve the model's ability to capture all instances of diabetes."
   ]
  },
  {
   "cell_type": "code",
   "execution_count": null,
   "id": "021f5360",
   "metadata": {},
   "outputs": [],
   "source": []
  }
 ],
 "metadata": {
  "kernelspec": {
   "display_name": "Python 3 (ipykernel)",
   "language": "python",
   "name": "python3"
  },
  "language_info": {
   "codemirror_mode": {
    "name": "ipython",
    "version": 3
   },
   "file_extension": ".py",
   "mimetype": "text/x-python",
   "name": "python",
   "nbconvert_exporter": "python",
   "pygments_lexer": "ipython3",
   "version": "3.11.5"
  }
 },
 "nbformat": 4,
 "nbformat_minor": 5
}
